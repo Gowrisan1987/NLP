{
  "nbformat": 4,
  "nbformat_minor": 0,
  "metadata": {
    "colab": {
      "name": "Youtube_comments_spam_collection_LSTM.ipynb",
      "provenance": [],
      "collapsed_sections": [],
      "authorship_tag": "ABX9TyOcPoHtUqTksjShLewmN8Z1",
      "include_colab_link": true
    },
    "kernelspec": {
      "name": "python3",
      "display_name": "Python 3"
    }
  },
  "cells": [
    {
      "cell_type": "markdown",
      "metadata": {
        "id": "view-in-github",
        "colab_type": "text"
      },
      "source": [
        "<a href=\"https://colab.research.google.com/github/Gowrisan1987/NLP/blob/master/Youtube_comments_spam_collection_LSTM.ipynb\" target=\"_parent\"><img src=\"https://colab.research.google.com/assets/colab-badge.svg\" alt=\"Open In Colab\"/></a>"
      ]
    },
    {
      "cell_type": "code",
      "metadata": {
        "id": "tr5cXvzIYfhG",
        "colab_type": "code",
        "colab": {
          "base_uri": "https://localhost:8080/",
          "height": 50
        },
        "outputId": "3628d236-e587-475b-e642-5996e3ed2ad7"
      },
      "source": [
        "import numpy as np\n",
        "import pandas as pd\n",
        "#import spacy\n",
        "from sklearn.model_selection import train_test_split\n",
        "from tensorflow.keras.layers import Embedding,LSTM,Dense,Bidirectional\n",
        "from tensorflow.keras.preprocessing.sequence import pad_sequences\n",
        "from tensorflow.keras.models import Sequential\n",
        "from tensorflow.keras.preprocessing.text import one_hot\n",
        "from sklearn.metrics import confusion_matrix\n",
        "from sklearn.metrics import accuracy_score\n",
        "import nltk\n",
        "import re\n",
        "from nltk.corpus import stopwords\n",
        "nltk.download('stopwords')\n",
        "import glob"
      ],
      "execution_count": 1,
      "outputs": [
        {
          "output_type": "stream",
          "text": [
            "[nltk_data] Downloading package stopwords to /root/nltk_data...\n",
            "[nltk_data]   Unzipping corpora/stopwords.zip.\n"
          ],
          "name": "stdout"
        }
      ]
    },
    {
      "cell_type": "code",
      "metadata": {
        "id": "ijyLp_gEbBwz",
        "colab_type": "code",
        "colab": {
          "base_uri": "https://localhost:8080/",
          "height": 121
        },
        "outputId": "87462e72-1eb5-433d-dd7b-79f2c0329fa1"
      },
      "source": [
        "from google.colab import drive\n",
        "drive.mount('/content/drive')"
      ],
      "execution_count": 2,
      "outputs": [
        {
          "output_type": "stream",
          "text": [
            "Go to this URL in a browser: https://accounts.google.com/o/oauth2/auth?client_id=947318989803-6bn6qk8qdgf4n4g3pfee6491hc0brc4i.apps.googleusercontent.com&redirect_uri=urn%3aietf%3awg%3aoauth%3a2.0%3aoob&response_type=code&scope=email%20https%3a%2f%2fwww.googleapis.com%2fauth%2fdocs.test%20https%3a%2f%2fwww.googleapis.com%2fauth%2fdrive%20https%3a%2f%2fwww.googleapis.com%2fauth%2fdrive.photos.readonly%20https%3a%2f%2fwww.googleapis.com%2fauth%2fpeopleapi.readonly\n",
            "\n",
            "Enter your authorization code:\n",
            "··········\n",
            "Mounted at /content/drive\n"
          ],
          "name": "stdout"
        }
      ]
    },
    {
      "cell_type": "code",
      "metadata": {
        "id": "q3xVYU8gKWaA",
        "colab_type": "code",
        "colab": {}
      },
      "source": [
        "path='/content/drive/My Drive/Data/'"
      ],
      "execution_count": 3,
      "outputs": []
    },
    {
      "cell_type": "code",
      "metadata": {
        "id": "dnvDSeRQKNrC",
        "colab_type": "code",
        "colab": {}
      },
      "source": [
        "# Source: Downloaded from UCI Machine learning repository\n",
        "yt_df = pd.concat([pd.read_csv(f,header=0) for f in glob.glob(path+\"/Youtube*.csv\")], ignore_index = True)"
      ],
      "execution_count": 4,
      "outputs": []
    },
    {
      "cell_type": "code",
      "metadata": {
        "id": "uGTegYM3bhTA",
        "colab_type": "code",
        "colab": {}
      },
      "source": [
        "#yt_df=pd.read_csv(\"/content/drive/My Drive/Data/Youtube04-Eminem.csv\")"
      ],
      "execution_count": null,
      "outputs": []
    },
    {
      "cell_type": "code",
      "metadata": {
        "id": "xChd6x34cEAR",
        "colab_type": "code",
        "colab": {
          "base_uri": "https://localhost:8080/",
          "height": 195
        },
        "outputId": "54ec7c4a-9760-4ccc-dbd8-c4597712726d"
      },
      "source": [
        "yt_df.head()"
      ],
      "execution_count": 10,
      "outputs": [
        {
          "output_type": "execute_result",
          "data": {
            "text/html": [
              "<div>\n",
              "<style scoped>\n",
              "    .dataframe tbody tr th:only-of-type {\n",
              "        vertical-align: middle;\n",
              "    }\n",
              "\n",
              "    .dataframe tbody tr th {\n",
              "        vertical-align: top;\n",
              "    }\n",
              "\n",
              "    .dataframe thead th {\n",
              "        text-align: right;\n",
              "    }\n",
              "</style>\n",
              "<table border=\"1\" class=\"dataframe\">\n",
              "  <thead>\n",
              "    <tr style=\"text-align: right;\">\n",
              "      <th></th>\n",
              "      <th>COMMENT_ID</th>\n",
              "      <th>AUTHOR</th>\n",
              "      <th>DATE</th>\n",
              "      <th>CONTENT</th>\n",
              "      <th>CLASS</th>\n",
              "    </tr>\n",
              "  </thead>\n",
              "  <tbody>\n",
              "    <tr>\n",
              "      <th>0</th>\n",
              "      <td>LZQPQhLyRh80UYxNuaDWhIGQYNQ96IuCg-AYWqNPjpU</td>\n",
              "      <td>Julius NM</td>\n",
              "      <td>2013-11-07T06:20:48</td>\n",
              "      <td>Huh, anyway check out this you[tube] channel: ...</td>\n",
              "      <td>1</td>\n",
              "    </tr>\n",
              "    <tr>\n",
              "      <th>1</th>\n",
              "      <td>LZQPQhLyRh_C2cTtd9MvFRJedxydaVW-2sNg5Diuo4A</td>\n",
              "      <td>adam riyati</td>\n",
              "      <td>2013-11-07T12:37:15</td>\n",
              "      <td>Hey guys check out my new channel and our firs...</td>\n",
              "      <td>1</td>\n",
              "    </tr>\n",
              "    <tr>\n",
              "      <th>2</th>\n",
              "      <td>LZQPQhLyRh9MSZYnf8djyk0gEF9BHDPYrrK-qCczIY8</td>\n",
              "      <td>Evgeny Murashkin</td>\n",
              "      <td>2013-11-08T17:34:21</td>\n",
              "      <td>just for test I have to say murdev.com</td>\n",
              "      <td>1</td>\n",
              "    </tr>\n",
              "    <tr>\n",
              "      <th>3</th>\n",
              "      <td>z13jhp0bxqncu512g22wvzkasxmvvzjaz04</td>\n",
              "      <td>ElNino Melendez</td>\n",
              "      <td>2013-11-09T08:28:43</td>\n",
              "      <td>me shaking my sexy ass on my channel enjoy ^_^ ﻿</td>\n",
              "      <td>1</td>\n",
              "    </tr>\n",
              "    <tr>\n",
              "      <th>4</th>\n",
              "      <td>z13fwbwp1oujthgqj04chlngpvzmtt3r3dw</td>\n",
              "      <td>GsMega</td>\n",
              "      <td>2013-11-10T16:05:38</td>\n",
              "      <td>watch?v=vtaRGgvGtWQ   Check this out .﻿</td>\n",
              "      <td>1</td>\n",
              "    </tr>\n",
              "  </tbody>\n",
              "</table>\n",
              "</div>"
            ],
            "text/plain": [
              "                                    COMMENT_ID  ... CLASS\n",
              "0  LZQPQhLyRh80UYxNuaDWhIGQYNQ96IuCg-AYWqNPjpU  ...     1\n",
              "1  LZQPQhLyRh_C2cTtd9MvFRJedxydaVW-2sNg5Diuo4A  ...     1\n",
              "2  LZQPQhLyRh9MSZYnf8djyk0gEF9BHDPYrrK-qCczIY8  ...     1\n",
              "3          z13jhp0bxqncu512g22wvzkasxmvvzjaz04  ...     1\n",
              "4          z13fwbwp1oujthgqj04chlngpvzmtt3r3dw  ...     1\n",
              "\n",
              "[5 rows x 5 columns]"
            ]
          },
          "metadata": {
            "tags": []
          },
          "execution_count": 10
        }
      ]
    },
    {
      "cell_type": "code",
      "metadata": {
        "id": "N_iCU-v0cbzs",
        "colab_type": "code",
        "colab": {
          "base_uri": "https://localhost:8080/",
          "height": 34
        },
        "outputId": "b9deb1ae-4b2d-4a52-b6b0-72b6c6c02104"
      },
      "source": [
        "yt_df.isnull().values.any()"
      ],
      "execution_count": 6,
      "outputs": [
        {
          "output_type": "execute_result",
          "data": {
            "text/plain": [
              "True"
            ]
          },
          "metadata": {
            "tags": []
          },
          "execution_count": 6
        }
      ]
    },
    {
      "cell_type": "code",
      "metadata": {
        "id": "GOLR0CBrda5K",
        "colab_type": "code",
        "colab": {
          "base_uri": "https://localhost:8080/",
          "height": 34
        },
        "outputId": "b6f0b414-af8f-4260-996e-42affb588e32"
      },
      "source": [
        "yt_df['CONTENT'].isnull().values.any()"
      ],
      "execution_count": 7,
      "outputs": [
        {
          "output_type": "execute_result",
          "data": {
            "text/plain": [
              "False"
            ]
          },
          "metadata": {
            "tags": []
          },
          "execution_count": 7
        }
      ]
    },
    {
      "cell_type": "code",
      "metadata": {
        "id": "YAcTDuo3dpYO",
        "colab_type": "code",
        "colab": {
          "base_uri": "https://localhost:8080/",
          "height": 67
        },
        "outputId": "cbeac324-87a0-439e-fa25-9c15d84fd4c6"
      },
      "source": [
        "yt_df['CLASS'].value_counts()"
      ],
      "execution_count": 8,
      "outputs": [
        {
          "output_type": "execute_result",
          "data": {
            "text/plain": [
              "1    1005\n",
              "0     951\n",
              "Name: CLASS, dtype: int64"
            ]
          },
          "metadata": {
            "tags": []
          },
          "execution_count": 8
        }
      ]
    },
    {
      "cell_type": "code",
      "metadata": {
        "id": "LM6VWB0HgKzs",
        "colab_type": "code",
        "colab": {
          "base_uri": "https://localhost:8080/",
          "height": 34
        },
        "outputId": "a4cca05f-e483-4b27-d3fb-177eaacfb1dd"
      },
      "source": [
        "yt_df.shape"
      ],
      "execution_count": 11,
      "outputs": [
        {
          "output_type": "execute_result",
          "data": {
            "text/plain": [
              "(1956, 5)"
            ]
          },
          "metadata": {
            "tags": []
          },
          "execution_count": 11
        }
      ]
    },
    {
      "cell_type": "code",
      "metadata": {
        "id": "59xSCsJChs-6",
        "colab_type": "code",
        "colab": {}
      },
      "source": [
        "#nlp=spacy.load('en_core_web_sm')"
      ],
      "execution_count": null,
      "outputs": []
    },
    {
      "cell_type": "code",
      "metadata": {
        "id": "RwD45fj_kP6n",
        "colab_type": "code",
        "colab": {}
      },
      "source": [
        "#x=yt_df.drop('CLASS',axis=1)"
      ],
      "execution_count": null,
      "outputs": []
    },
    {
      "cell_type": "code",
      "metadata": {
        "id": "lUsUnOgEkQr2",
        "colab_type": "code",
        "colab": {}
      },
      "source": [
        "y=yt_df['CLASS']"
      ],
      "execution_count": 12,
      "outputs": []
    },
    {
      "cell_type": "code",
      "metadata": {
        "id": "uOSnq28Rfm3Z",
        "colab_type": "code",
        "colab": {}
      },
      "source": [
        "### Dataset Preprocessing\n",
        "from nltk.stem.porter import PorterStemmer\n",
        "ps = PorterStemmer()\n",
        "corpus = []\n",
        "for i in range(0, len(yt_df)):\n",
        "    review = re.sub('[^a-zA-Z]', ' ', yt_df['CONTENT'][i])\n",
        "    review = review.lower()\n",
        "    review = review.split()\n",
        "    \n",
        "    review = [ps.stem(word) for word in review if not word in stopwords.words('english')]\n",
        "    review = ' '.join(review)\n",
        "    corpus.append(review)"
      ],
      "execution_count": 13,
      "outputs": []
    },
    {
      "cell_type": "code",
      "metadata": {
        "id": "TZ8GI8anfazH",
        "colab_type": "code",
        "colab": {}
      },
      "source": [
        "#def clean_text(token):\n",
        "  #if token.is_stop==False and token.is_punct==False and not token.is_space and token.lemma_!='-PRON-':\n",
        "  #  return True\n",
        "  #return False\n",
        "\n",
        "#def lemma_text(text):\n",
        "    #cleaned_text=[token.lemma_.lower() for token in nlp(text) if clean_text(token)]\n",
        "    #return cleaned_text\n",
        "\n",
        "\n",
        "# Cleaning through Spacy utilities\n",
        "#def cleaned_text(data):\n",
        "  #for i in range(0,1):\n",
        "   # text = []\n",
        "    #doc=nlp(data)\n",
        "    #for j in range(0,len(doc)):\n",
        "      #print(j)\n",
        "    #token=[word.lemma_.lower().strip() for word in doc if word.lemma_ != '-PRON-' and word.is_stop==False and word.is_punct==False]\n",
        "    #token=[word for word in token if word.is_stop==False and token.is_punct==False]\n",
        "    #token = ' '.join(token)\n",
        "    #text.append(token)\n",
        "\n",
        "  #return text\n",
        "  \n",
        "#test1=yt_df['CONTENT'][2]\n",
        "#test2=cleaned_text(test1)\n"
      ],
      "execution_count": null,
      "outputs": []
    },
    {
      "cell_type": "code",
      "metadata": {
        "id": "YrHvgBqp0cRm",
        "colab_type": "code",
        "colab": {}
      },
      "source": [
        "#text = []\n",
        "\n",
        "#for i in range(0,len(yt_df)):\n",
        "  #doc=nlp(yt_df['CONTENT'][i])\n",
        "  #token=[word.lemma_.lower().strip() for word in doc if word.is_stop==False and word.is_punct==False and word.is_alpha==True]\n",
        "  #token = ' '.join(token)\n",
        "  \n",
        "  #text.append(token)\n"
      ],
      "execution_count": null,
      "outputs": []
    },
    {
      "cell_type": "code",
      "metadata": {
        "id": "SJ3lYN6MllV2",
        "colab_type": "code",
        "colab": {}
      },
      "source": [
        "voc_size=5000"
      ],
      "execution_count": 14,
      "outputs": []
    },
    {
      "cell_type": "code",
      "metadata": {
        "id": "loYMMYjMmJuY",
        "colab_type": "code",
        "colab": {}
      },
      "source": [
        "onehot_repr=[one_hot(words,voc_size)for words in corpus] "
      ],
      "execution_count": 15,
      "outputs": []
    },
    {
      "cell_type": "code",
      "metadata": {
        "id": "GAmmXsywnE_o",
        "colab_type": "code",
        "colab": {
          "base_uri": "https://localhost:8080/",
          "height": 34
        },
        "outputId": "89882113-3162-4f7e-f671-e20dd293f94e"
      },
      "source": [
        "onehot_repr[0]"
      ],
      "execution_count": 16,
      "outputs": [
        {
          "output_type": "execute_result",
          "data": {
            "text/plain": [
              "[2679, 448, 2222, 838, 1518, 1437]"
            ]
          },
          "metadata": {
            "tags": []
          },
          "execution_count": 16
        }
      ]
    },
    {
      "cell_type": "code",
      "metadata": {
        "id": "IGvZ2zsFnIQx",
        "colab_type": "code",
        "colab": {}
      },
      "source": [
        "## Padding to keep corpus of same length as embedded layer requires input of same length\n",
        "sent_ln=20\n",
        "padded_corpus=pad_sequences(onehot_repr,maxlen=sent_ln,padding='pre')"
      ],
      "execution_count": 19,
      "outputs": []
    },
    {
      "cell_type": "code",
      "metadata": {
        "id": "xnkI1pinn46w",
        "colab_type": "code",
        "colab": {
          "base_uri": "https://localhost:8080/",
          "height": 50
        },
        "outputId": "2ea81c1a-37b0-491f-9f33-9ba273c453ef"
      },
      "source": [
        "padded_corpus[0]"
      ],
      "execution_count": 20,
      "outputs": [
        {
          "output_type": "execute_result",
          "data": {
            "text/plain": [
              "array([   0,    0,    0,    0,    0,    0,    0,    0,    0,    0,    0,\n",
              "          0,    0,    0, 2679,  448, 2222,  838, 1518, 1437], dtype=int32)"
            ]
          },
          "metadata": {
            "tags": []
          },
          "execution_count": 20
        }
      ]
    },
    {
      "cell_type": "markdown",
      "metadata": {
        "id": "rnupQP03nfOd",
        "colab_type": "text"
      },
      "source": [
        "# Using LSTM approach"
      ]
    },
    {
      "cell_type": "code",
      "metadata": {
        "id": "1vTkPwJfn9QO",
        "colab_type": "code",
        "colab": {
          "base_uri": "https://localhost:8080/",
          "height": 269
        },
        "outputId": "8c38fea0-fc6f-47da-e609-e1917d805aa2"
      },
      "source": [
        "model=Sequential()\n",
        "model.add(Embedding(voc_size,50,input_length=sent_ln))\n",
        "model.add(LSTM(100))\n",
        "model.add(Dense(1,activation='sigmoid'))\n",
        "model.compile(loss='binary_crossentropy',optimizer='adam',metrics=['accuracy'])\n",
        "print(model.summary())"
      ],
      "execution_count": 21,
      "outputs": [
        {
          "output_type": "stream",
          "text": [
            "Model: \"sequential\"\n",
            "_________________________________________________________________\n",
            "Layer (type)                 Output Shape              Param #   \n",
            "=================================================================\n",
            "embedding (Embedding)        (None, 20, 50)            250000    \n",
            "_________________________________________________________________\n",
            "lstm (LSTM)                  (None, 100)               60400     \n",
            "_________________________________________________________________\n",
            "dense (Dense)                (None, 1)                 101       \n",
            "=================================================================\n",
            "Total params: 310,501\n",
            "Trainable params: 310,501\n",
            "Non-trainable params: 0\n",
            "_________________________________________________________________\n",
            "None\n"
          ],
          "name": "stdout"
        }
      ]
    },
    {
      "cell_type": "code",
      "metadata": {
        "id": "l3jvs0ZEpu29",
        "colab_type": "code",
        "colab": {}
      },
      "source": [
        "x_final=np.array(padded_corpus)\n",
        "y_final=np.array(y)"
      ],
      "execution_count": 22,
      "outputs": []
    },
    {
      "cell_type": "code",
      "metadata": {
        "id": "HOymWHOXqTMR",
        "colab_type": "code",
        "colab": {}
      },
      "source": [
        "X_train, X_test, y_train, y_test = train_test_split(x_final, y_final, test_size=0.20, random_state=42)"
      ],
      "execution_count": 23,
      "outputs": []
    },
    {
      "cell_type": "code",
      "metadata": {
        "id": "NVvtvji5qZ_-",
        "colab_type": "code",
        "colab": {
          "base_uri": "https://localhost:8080/",
          "height": 370
        },
        "outputId": "2c1e2385-9819-4972-fc5a-ca59964ee0b3"
      },
      "source": [
        "model.fit(X_train,y_train,validation_data=(X_test,y_test),epochs=10,batch_size=64)"
      ],
      "execution_count": 24,
      "outputs": [
        {
          "output_type": "stream",
          "text": [
            "Epoch 1/10\n",
            "25/25 [==============================] - 1s 55ms/step - loss: 0.6449 - accuracy: 0.6451 - val_loss: 0.5578 - val_accuracy: 0.6990\n",
            "Epoch 2/10\n",
            "25/25 [==============================] - 1s 34ms/step - loss: 0.4403 - accuracy: 0.7826 - val_loss: 0.3106 - val_accuracy: 0.9082\n",
            "Epoch 3/10\n",
            "25/25 [==============================] - 1s 35ms/step - loss: 0.2113 - accuracy: 0.9239 - val_loss: 0.2015 - val_accuracy: 0.9439\n",
            "Epoch 4/10\n",
            "25/25 [==============================] - 1s 36ms/step - loss: 0.1183 - accuracy: 0.9642 - val_loss: 0.1683 - val_accuracy: 0.9541\n",
            "Epoch 5/10\n",
            "25/25 [==============================] - 1s 34ms/step - loss: 0.0736 - accuracy: 0.9776 - val_loss: 0.1645 - val_accuracy: 0.9592\n",
            "Epoch 6/10\n",
            "25/25 [==============================] - 1s 34ms/step - loss: 0.0480 - accuracy: 0.9847 - val_loss: 0.1631 - val_accuracy: 0.9566\n",
            "Epoch 7/10\n",
            "25/25 [==============================] - 1s 33ms/step - loss: 0.0313 - accuracy: 0.9885 - val_loss: 0.1831 - val_accuracy: 0.9566\n",
            "Epoch 8/10\n",
            "25/25 [==============================] - 1s 34ms/step - loss: 0.0279 - accuracy: 0.9923 - val_loss: 0.1684 - val_accuracy: 0.9490\n",
            "Epoch 9/10\n",
            "25/25 [==============================] - 1s 34ms/step - loss: 0.0199 - accuracy: 0.9955 - val_loss: 0.1871 - val_accuracy: 0.9541\n",
            "Epoch 10/10\n",
            "25/25 [==============================] - 1s 33ms/step - loss: 0.0191 - accuracy: 0.9962 - val_loss: 0.1844 - val_accuracy: 0.9439\n"
          ],
          "name": "stdout"
        },
        {
          "output_type": "execute_result",
          "data": {
            "text/plain": [
              "<tensorflow.python.keras.callbacks.History at 0x7fd9e51f3358>"
            ]
          },
          "metadata": {
            "tags": []
          },
          "execution_count": 24
        }
      ]
    },
    {
      "cell_type": "code",
      "metadata": {
        "id": "aT4fO3l8qkWK",
        "colab_type": "code",
        "colab": {
          "base_uri": "https://localhost:8080/",
          "height": 87
        },
        "outputId": "6d1fb519-162e-4b50-e637-3a0c6fac167c"
      },
      "source": [
        "y_pred=model.predict_classes(X_test)"
      ],
      "execution_count": 25,
      "outputs": [
        {
          "output_type": "stream",
          "text": [
            "WARNING:tensorflow:From <ipython-input-25-66f7fe571d01>:1: Sequential.predict_classes (from tensorflow.python.keras.engine.sequential) is deprecated and will be removed after 2021-01-01.\n",
            "Instructions for updating:\n",
            "Please use instead:* `np.argmax(model.predict(x), axis=-1)`,   if your model does multi-class classification   (e.g. if it uses a `softmax` last-layer activation).* `(model.predict(x) > 0.5).astype(\"int32\")`,   if your model does binary classification   (e.g. if it uses a `sigmoid` last-layer activation).\n"
          ],
          "name": "stdout"
        }
      ]
    },
    {
      "cell_type": "code",
      "metadata": {
        "id": "HPHALstqsTRO",
        "colab_type": "code",
        "colab": {
          "base_uri": "https://localhost:8080/",
          "height": 50
        },
        "outputId": "f8d71764-4e72-4a5f-9a1e-6798a64f72f5"
      },
      "source": [
        "confusion_matrix(y_test,y_pred)"
      ],
      "execution_count": 26,
      "outputs": [
        {
          "output_type": "execute_result",
          "data": {
            "text/plain": [
              "array([[161,  15],\n",
              "       [  7, 209]])"
            ]
          },
          "metadata": {
            "tags": []
          },
          "execution_count": 26
        }
      ]
    },
    {
      "cell_type": "code",
      "metadata": {
        "id": "GvUPrRXEsWqN",
        "colab_type": "code",
        "colab": {
          "base_uri": "https://localhost:8080/",
          "height": 34
        },
        "outputId": "c80d3eb4-3ffd-4cb8-cbd3-f3d047347f39"
      },
      "source": [
        "accuracy_score(y_test,y_pred)"
      ],
      "execution_count": 27,
      "outputs": [
        {
          "output_type": "execute_result",
          "data": {
            "text/plain": [
              "0.9438775510204082"
            ]
          },
          "metadata": {
            "tags": []
          },
          "execution_count": 27
        }
      ]
    },
    {
      "cell_type": "markdown",
      "metadata": {
        "id": "ZpbY88y_k8fe",
        "colab_type": "text"
      },
      "source": [
        "## Trying using Bidirectional LSTM"
      ]
    },
    {
      "cell_type": "code",
      "metadata": {
        "id": "eXHlMXvcsuiT",
        "colab_type": "code",
        "colab": {
          "base_uri": "https://localhost:8080/",
          "height": 269
        },
        "outputId": "480c2034-4503-4d41-8655-65ec5ec0fcb9"
      },
      "source": [
        "model1=Sequential()\n",
        "model1.add(Embedding(voc_size,50,input_length=sent_ln))\n",
        "model1.add(Bidirectional(LSTM(100)))\n",
        "model1.add(Dense(1,activation='sigmoid'))\n",
        "model1.compile(loss='binary_crossentropy',optimizer='adam',metrics=['accuracy'])\n",
        "print(model1.summary())"
      ],
      "execution_count": 29,
      "outputs": [
        {
          "output_type": "stream",
          "text": [
            "Model: \"sequential_2\"\n",
            "_________________________________________________________________\n",
            "Layer (type)                 Output Shape              Param #   \n",
            "=================================================================\n",
            "embedding_2 (Embedding)      (None, 20, 50)            250000    \n",
            "_________________________________________________________________\n",
            "bidirectional_1 (Bidirection (None, 200)               120800    \n",
            "_________________________________________________________________\n",
            "dense_2 (Dense)              (None, 1)                 201       \n",
            "=================================================================\n",
            "Total params: 371,001\n",
            "Trainable params: 371,001\n",
            "Non-trainable params: 0\n",
            "_________________________________________________________________\n",
            "None\n"
          ],
          "name": "stdout"
        }
      ]
    },
    {
      "cell_type": "code",
      "metadata": {
        "id": "Onb4wIGoldFj",
        "colab_type": "code",
        "colab": {
          "base_uri": "https://localhost:8080/",
          "height": 370
        },
        "outputId": "af63987c-01ac-43fa-8634-3018f1120241"
      },
      "source": [
        "model1.fit(X_train,y_train,validation_data=(X_test,y_test),epochs=10,batch_size=64)"
      ],
      "execution_count": 30,
      "outputs": [
        {
          "output_type": "stream",
          "text": [
            "Epoch 1/10\n",
            "25/25 [==============================] - 2s 91ms/step - loss: 0.6082 - accuracy: 0.6861 - val_loss: 0.3680 - val_accuracy: 0.8367\n",
            "Epoch 2/10\n",
            "25/25 [==============================] - 1s 54ms/step - loss: 0.2290 - accuracy: 0.9111 - val_loss: 0.1753 - val_accuracy: 0.9439\n",
            "Epoch 3/10\n",
            "25/25 [==============================] - 1s 48ms/step - loss: 0.0847 - accuracy: 0.9763 - val_loss: 0.1686 - val_accuracy: 0.9439\n",
            "Epoch 4/10\n",
            "25/25 [==============================] - 1s 49ms/step - loss: 0.0355 - accuracy: 0.9917 - val_loss: 0.2464 - val_accuracy: 0.9362\n",
            "Epoch 5/10\n",
            "25/25 [==============================] - 1s 49ms/step - loss: 0.0370 - accuracy: 0.9859 - val_loss: 0.2812 - val_accuracy: 0.9235\n",
            "Epoch 6/10\n",
            "25/25 [==============================] - 1s 49ms/step - loss: 0.0208 - accuracy: 0.9936 - val_loss: 0.2093 - val_accuracy: 0.9490\n",
            "Epoch 7/10\n",
            "25/25 [==============================] - 1s 50ms/step - loss: 0.0147 - accuracy: 0.9962 - val_loss: 0.2555 - val_accuracy: 0.9464\n",
            "Epoch 8/10\n",
            "25/25 [==============================] - 1s 48ms/step - loss: 0.0105 - accuracy: 0.9974 - val_loss: 0.3080 - val_accuracy: 0.9311\n",
            "Epoch 9/10\n",
            "25/25 [==============================] - 1s 50ms/step - loss: 0.0132 - accuracy: 0.9974 - val_loss: 0.2933 - val_accuracy: 0.9337\n",
            "Epoch 10/10\n",
            "25/25 [==============================] - 1s 49ms/step - loss: 0.0084 - accuracy: 0.9981 - val_loss: 0.2997 - val_accuracy: 0.9337\n"
          ],
          "name": "stdout"
        },
        {
          "output_type": "execute_result",
          "data": {
            "text/plain": [
              "<tensorflow.python.keras.callbacks.History at 0x7fd9e12f6390>"
            ]
          },
          "metadata": {
            "tags": []
          },
          "execution_count": 30
        }
      ]
    },
    {
      "cell_type": "code",
      "metadata": {
        "id": "rx4avaDdme1u",
        "colab_type": "code",
        "colab": {}
      },
      "source": [
        "y_pred_model1=model1.predict_classes(X_test)"
      ],
      "execution_count": 31,
      "outputs": []
    },
    {
      "cell_type": "code",
      "metadata": {
        "id": "tzFAYnOgmuo4",
        "colab_type": "code",
        "colab": {
          "base_uri": "https://localhost:8080/",
          "height": 50
        },
        "outputId": "d8e4f9a1-91d3-4555-eb67-9653cda96b25"
      },
      "source": [
        "confusion_matrix(y_test,y_pred_model1)"
      ],
      "execution_count": 32,
      "outputs": [
        {
          "output_type": "execute_result",
          "data": {
            "text/plain": [
              "array([[165,  11],\n",
              "       [ 15, 201]])"
            ]
          },
          "metadata": {
            "tags": []
          },
          "execution_count": 32
        }
      ]
    },
    {
      "cell_type": "code",
      "metadata": {
        "id": "F-YwZ861m3fc",
        "colab_type": "code",
        "colab": {
          "base_uri": "https://localhost:8080/",
          "height": 34
        },
        "outputId": "7e69a53b-8a13-4a3c-9431-f55be546baba"
      },
      "source": [
        "accuracy_score(y_test,y_pred_model1)"
      ],
      "execution_count": 33,
      "outputs": [
        {
          "output_type": "execute_result",
          "data": {
            "text/plain": [
              "0.9336734693877551"
            ]
          },
          "metadata": {
            "tags": []
          },
          "execution_count": 33
        }
      ]
    },
    {
      "cell_type": "code",
      "metadata": {
        "id": "lUEz_j0Km91J",
        "colab_type": "code",
        "colab": {}
      },
      "source": [
        ""
      ],
      "execution_count": null,
      "outputs": []
    }
  ]
}