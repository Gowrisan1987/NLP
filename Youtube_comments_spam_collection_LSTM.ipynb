{
  "nbformat": 4,
  "nbformat_minor": 0,
  "metadata": {
    "colab": {
      "name": "Youtube_comments_spam_collection_LSTM.ipynb",
      "provenance": [],
      "collapsed_sections": [],
      "authorship_tag": "ABX9TyPL7IC+zUqU1z0TH/1RFSHP",
      "include_colab_link": true
    },
    "kernelspec": {
      "name": "python3",
      "display_name": "Python 3"
    }
  },
  "cells": [
    {
      "cell_type": "markdown",
      "metadata": {
        "id": "view-in-github",
        "colab_type": "text"
      },
      "source": [
        "<a href=\"https://colab.research.google.com/github/Gowrisan1987/NLP/blob/master/Youtube_comments_spam_collection_LSTM.ipynb\" target=\"_parent\"><img src=\"https://colab.research.google.com/assets/colab-badge.svg\" alt=\"Open In Colab\"/></a>"
      ]
    },
    {
      "cell_type": "code",
      "metadata": {
        "id": "tr5cXvzIYfhG",
        "colab_type": "code",
        "colab": {}
      },
      "source": [
        "import numpy as np\n",
        "import pandas as pd\n",
        "#import spacy\n",
        "from sklearn.model_selection import train_test_split\n",
        "from tensorflow.keras.layers import Embedding,LSTM,Dense,Bidirectional\n",
        "from tensorflow.keras.preprocessing.sequence import pad_sequences\n",
        "from tensorflow.keras.models import Sequential\n",
        "from tensorflow.keras.preprocessing.text import one_hot"
      ],
      "execution_count": 39,
      "outputs": []
    },
    {
      "cell_type": "code",
      "metadata": {
        "id": "ijyLp_gEbBwz",
        "colab_type": "code",
        "colab": {
          "base_uri": "https://localhost:8080/",
          "height": 121
        },
        "outputId": "90701182-86a6-4dd4-e09b-fb52a7157796"
      },
      "source": [
        "from google.colab import drive\n",
        "drive.mount('/content/drive')"
      ],
      "execution_count": 4,
      "outputs": [
        {
          "output_type": "stream",
          "text": [
            "Go to this URL in a browser: https://accounts.google.com/o/oauth2/auth?client_id=947318989803-6bn6qk8qdgf4n4g3pfee6491hc0brc4i.apps.googleusercontent.com&redirect_uri=urn%3aietf%3awg%3aoauth%3a2.0%3aoob&response_type=code&scope=email%20https%3a%2f%2fwww.googleapis.com%2fauth%2fdocs.test%20https%3a%2f%2fwww.googleapis.com%2fauth%2fdrive%20https%3a%2f%2fwww.googleapis.com%2fauth%2fdrive.photos.readonly%20https%3a%2f%2fwww.googleapis.com%2fauth%2fpeopleapi.readonly\n",
            "\n",
            "Enter your authorization code:\n",
            "··········\n",
            "Mounted at /content/drive\n"
          ],
          "name": "stdout"
        }
      ]
    },
    {
      "cell_type": "code",
      "metadata": {
        "id": "uGTegYM3bhTA",
        "colab_type": "code",
        "colab": {}
      },
      "source": [
        "yt_df=pd.read_csv(\"/content/drive/My Drive/Data/Youtube04-Eminem.csv\")"
      ],
      "execution_count": 40,
      "outputs": []
    },
    {
      "cell_type": "code",
      "metadata": {
        "id": "xChd6x34cEAR",
        "colab_type": "code",
        "colab": {
          "base_uri": "https://localhost:8080/",
          "height": 195
        },
        "outputId": "4ae796e2-a906-418e-e9c1-3fc2986b4b22"
      },
      "source": [
        "yt_df.head()"
      ],
      "execution_count": 41,
      "outputs": [
        {
          "output_type": "execute_result",
          "data": {
            "text/html": [
              "<div>\n",
              "<style scoped>\n",
              "    .dataframe tbody tr th:only-of-type {\n",
              "        vertical-align: middle;\n",
              "    }\n",
              "\n",
              "    .dataframe tbody tr th {\n",
              "        vertical-align: top;\n",
              "    }\n",
              "\n",
              "    .dataframe thead th {\n",
              "        text-align: right;\n",
              "    }\n",
              "</style>\n",
              "<table border=\"1\" class=\"dataframe\">\n",
              "  <thead>\n",
              "    <tr style=\"text-align: right;\">\n",
              "      <th></th>\n",
              "      <th>COMMENT_ID</th>\n",
              "      <th>AUTHOR</th>\n",
              "      <th>DATE</th>\n",
              "      <th>CONTENT</th>\n",
              "      <th>CLASS</th>\n",
              "    </tr>\n",
              "  </thead>\n",
              "  <tbody>\n",
              "    <tr>\n",
              "      <th>0</th>\n",
              "      <td>z12rwfnyyrbsefonb232i5ehdxzkjzjs2</td>\n",
              "      <td>Lisa Wellas</td>\n",
              "      <td>NaN</td>\n",
              "      <td>+447935454150 lovely girl talk to me xxx﻿</td>\n",
              "      <td>1</td>\n",
              "    </tr>\n",
              "    <tr>\n",
              "      <th>1</th>\n",
              "      <td>z130wpnwwnyuetxcn23xf5k5ynmkdpjrj04</td>\n",
              "      <td>jason graham</td>\n",
              "      <td>2015-05-29T02:26:10.652000</td>\n",
              "      <td>I always end up coming back to this song&lt;br /&gt;﻿</td>\n",
              "      <td>0</td>\n",
              "    </tr>\n",
              "    <tr>\n",
              "      <th>2</th>\n",
              "      <td>z13vsfqirtavjvu0t22ezrgzyorwxhpf3</td>\n",
              "      <td>Ajkal Khan</td>\n",
              "      <td>NaN</td>\n",
              "      <td>my sister just received over 6,500 new &lt;a rel=...</td>\n",
              "      <td>1</td>\n",
              "    </tr>\n",
              "    <tr>\n",
              "      <th>3</th>\n",
              "      <td>z12wjzc4eprnvja4304cgbbizuved35wxcs</td>\n",
              "      <td>Dakota Taylor</td>\n",
              "      <td>2015-05-29T02:13:07.810000</td>\n",
              "      <td>Cool﻿</td>\n",
              "      <td>0</td>\n",
              "    </tr>\n",
              "    <tr>\n",
              "      <th>4</th>\n",
              "      <td>z13xjfr42z3uxdz2223gx5rrzs3dt5hna</td>\n",
              "      <td>Jihad Naser</td>\n",
              "      <td>NaN</td>\n",
              "      <td>Hello I&amp;#39;am from Palastine﻿</td>\n",
              "      <td>1</td>\n",
              "    </tr>\n",
              "  </tbody>\n",
              "</table>\n",
              "</div>"
            ],
            "text/plain": [
              "                            COMMENT_ID  ... CLASS\n",
              "0    z12rwfnyyrbsefonb232i5ehdxzkjzjs2  ...     1\n",
              "1  z130wpnwwnyuetxcn23xf5k5ynmkdpjrj04  ...     0\n",
              "2    z13vsfqirtavjvu0t22ezrgzyorwxhpf3  ...     1\n",
              "3  z12wjzc4eprnvja4304cgbbizuved35wxcs  ...     0\n",
              "4    z13xjfr42z3uxdz2223gx5rrzs3dt5hna  ...     1\n",
              "\n",
              "[5 rows x 5 columns]"
            ]
          },
          "metadata": {
            "tags": []
          },
          "execution_count": 41
        }
      ]
    },
    {
      "cell_type": "code",
      "metadata": {
        "id": "N_iCU-v0cbzs",
        "colab_type": "code",
        "colab": {
          "base_uri": "https://localhost:8080/",
          "height": 34
        },
        "outputId": "0e971de9-da3b-4a94-c8ef-257b5a1e2dbf"
      },
      "source": [
        "yt_df.isnull().values.any()"
      ],
      "execution_count": 42,
      "outputs": [
        {
          "output_type": "execute_result",
          "data": {
            "text/plain": [
              "True"
            ]
          },
          "metadata": {
            "tags": []
          },
          "execution_count": 42
        }
      ]
    },
    {
      "cell_type": "code",
      "metadata": {
        "id": "GOLR0CBrda5K",
        "colab_type": "code",
        "colab": {
          "base_uri": "https://localhost:8080/",
          "height": 34
        },
        "outputId": "232f11db-e73d-4936-fea5-02dd932951e2"
      },
      "source": [
        "yt_df['CONTENT'].isnull().values.any()"
      ],
      "execution_count": 43,
      "outputs": [
        {
          "output_type": "execute_result",
          "data": {
            "text/plain": [
              "False"
            ]
          },
          "metadata": {
            "tags": []
          },
          "execution_count": 43
        }
      ]
    },
    {
      "cell_type": "code",
      "metadata": {
        "id": "YAcTDuo3dpYO",
        "colab_type": "code",
        "colab": {
          "base_uri": "https://localhost:8080/",
          "height": 67
        },
        "outputId": "6d0de946-c3b3-45b7-bab3-6310eaffd469"
      },
      "source": [
        "yt_df['CLASS'].value_counts()"
      ],
      "execution_count": 44,
      "outputs": [
        {
          "output_type": "execute_result",
          "data": {
            "text/plain": [
              "1    245\n",
              "0    203\n",
              "Name: CLASS, dtype: int64"
            ]
          },
          "metadata": {
            "tags": []
          },
          "execution_count": 44
        }
      ]
    },
    {
      "cell_type": "code",
      "metadata": {
        "id": "LM6VWB0HgKzs",
        "colab_type": "code",
        "colab": {
          "base_uri": "https://localhost:8080/",
          "height": 34
        },
        "outputId": "d04fb359-2e1b-4be0-80a0-b63a01e6bb57"
      },
      "source": [
        "yt_df.shape"
      ],
      "execution_count": 45,
      "outputs": [
        {
          "output_type": "execute_result",
          "data": {
            "text/plain": [
              "(448, 5)"
            ]
          },
          "metadata": {
            "tags": []
          },
          "execution_count": 45
        }
      ]
    },
    {
      "cell_type": "code",
      "metadata": {
        "id": "59xSCsJChs-6",
        "colab_type": "code",
        "colab": {}
      },
      "source": [
        "#nlp=spacy.load('en_core_web_sm')"
      ],
      "execution_count": 46,
      "outputs": []
    },
    {
      "cell_type": "code",
      "metadata": {
        "id": "RwD45fj_kP6n",
        "colab_type": "code",
        "colab": {}
      },
      "source": [
        "#x=yt_df.drop('CLASS',axis=1)"
      ],
      "execution_count": 13,
      "outputs": []
    },
    {
      "cell_type": "code",
      "metadata": {
        "id": "lUsUnOgEkQr2",
        "colab_type": "code",
        "colab": {}
      },
      "source": [
        "y=yt_df['CLASS']"
      ],
      "execution_count": 47,
      "outputs": []
    },
    {
      "cell_type": "code",
      "metadata": {
        "id": "FQfKE3AHj5eI",
        "colab_type": "code",
        "colab": {
          "base_uri": "https://localhost:8080/",
          "height": 67
        },
        "outputId": "bdcf02c8-8025-419e-ea18-b9b9e0fddb5a"
      },
      "source": [
        "import nltk\n",
        "import re\n",
        "from nltk.corpus import stopwords\n",
        "nltk.download('stopwords')"
      ],
      "execution_count": 48,
      "outputs": [
        {
          "output_type": "stream",
          "text": [
            "[nltk_data] Downloading package stopwords to /root/nltk_data...\n",
            "[nltk_data]   Package stopwords is already up-to-date!\n"
          ],
          "name": "stdout"
        },
        {
          "output_type": "execute_result",
          "data": {
            "text/plain": [
              "True"
            ]
          },
          "metadata": {
            "tags": []
          },
          "execution_count": 48
        }
      ]
    },
    {
      "cell_type": "code",
      "metadata": {
        "id": "uOSnq28Rfm3Z",
        "colab_type": "code",
        "colab": {}
      },
      "source": [
        "### Dataset Preprocessing\n",
        "from nltk.stem.porter import PorterStemmer\n",
        "ps = PorterStemmer()\n",
        "corpus = []\n",
        "for i in range(0, len(yt_df)):\n",
        "    review = re.sub('[^a-zA-Z]', ' ', yt_df['CONTENT'][i])\n",
        "    review = review.lower()\n",
        "    review = review.split()\n",
        "    \n",
        "    review = [ps.stem(word) for word in review if not word in stopwords.words('english')]\n",
        "    review = ' '.join(review)\n",
        "    corpus.append(review)"
      ],
      "execution_count": 49,
      "outputs": []
    },
    {
      "cell_type": "code",
      "metadata": {
        "id": "TZ8GI8anfazH",
        "colab_type": "code",
        "colab": {}
      },
      "source": [
        "#def clean_text(token):\n",
        "  #if token.is_stop==False and token.is_punct==False and not token.is_space and token.lemma_!='-PRON-':\n",
        "  #  return True\n",
        "  #return False\n",
        "\n",
        "#def lemma_text(text):\n",
        "    #cleaned_text=[token.lemma_.lower() for token in nlp(text) if clean_text(token)]\n",
        "    #return cleaned_text\n",
        "\n",
        "\n",
        "# Cleaning through Spacy utilities\n",
        "#def cleaned_text(data):\n",
        "  #for i in range(0,1):\n",
        "   # text = []\n",
        "    #doc=nlp(data)\n",
        "    #for j in range(0,len(doc)):\n",
        "      print(j)\n",
        "    #token=[word.lemma_.lower().strip() for word in doc if word.lemma_ != '-PRON-' and word.is_stop==False and word.is_punct==False]\n",
        "    #token=[word for word in token if word.is_stop==False and token.is_punct==False]\n",
        "    #token = ' '.join(token)\n",
        "    #text.append(token)\n",
        "\n",
        "  #return text\n",
        "  \n",
        "#test1=yt_df['CONTENT'][2]\n",
        "#test2=cleaned_text(test1)\n"
      ],
      "execution_count": null,
      "outputs": []
    },
    {
      "cell_type": "code",
      "metadata": {
        "id": "YrHvgBqp0cRm",
        "colab_type": "code",
        "colab": {}
      },
      "source": [
        "#text = []\n",
        "\n",
        "#for i in range(0,len(yt_df)):\n",
        "  #doc=nlp(yt_df['CONTENT'][i])\n",
        "  #token=[word.lemma_.lower().strip() for word in doc if word.is_stop==False and word.is_punct==False and word.is_alpha==True]\n",
        "  #token = ' '.join(token)\n",
        "  \n",
        "  #text.append(token)\n"
      ],
      "execution_count": null,
      "outputs": []
    },
    {
      "cell_type": "code",
      "metadata": {
        "id": "dWcFMfzzli0J",
        "colab_type": "code",
        "colab": {}
      },
      "source": [
        "#text[8]"
      ],
      "execution_count": 17,
      "outputs": []
    },
    {
      "cell_type": "code",
      "metadata": {
        "id": "SJ3lYN6MllV2",
        "colab_type": "code",
        "colab": {}
      },
      "source": [
        "voc_size=5000"
      ],
      "execution_count": 50,
      "outputs": []
    },
    {
      "cell_type": "code",
      "metadata": {
        "id": "loYMMYjMmJuY",
        "colab_type": "code",
        "colab": {}
      },
      "source": [
        "onehot_repr=[one_hot(words,voc_size)for words in corpus] "
      ],
      "execution_count": 51,
      "outputs": []
    },
    {
      "cell_type": "code",
      "metadata": {
        "id": "GAmmXsywnE_o",
        "colab_type": "code",
        "colab": {
          "base_uri": "https://localhost:8080/",
          "height": 34
        },
        "outputId": "4cb503b7-8749-464b-c7ad-cf1960241f1f"
      },
      "source": [
        "onehot_repr[0]"
      ],
      "execution_count": 52,
      "outputs": [
        {
          "output_type": "execute_result",
          "data": {
            "text/plain": [
              "[20, 1281, 3595, 1941]"
            ]
          },
          "metadata": {
            "tags": []
          },
          "execution_count": 52
        }
      ]
    },
    {
      "cell_type": "code",
      "metadata": {
        "id": "IGvZ2zsFnIQx",
        "colab_type": "code",
        "colab": {}
      },
      "source": [
        "sent_ln=20\n",
        "padded_corpus=pad_sequences(onehot_repr,maxlen=sent_ln,padding='pre')"
      ],
      "execution_count": 53,
      "outputs": []
    },
    {
      "cell_type": "code",
      "metadata": {
        "id": "xnkI1pinn46w",
        "colab_type": "code",
        "colab": {
          "base_uri": "https://localhost:8080/",
          "height": 50
        },
        "outputId": "dc12a60d-2a26-449a-9563-3e4482e6fba9"
      },
      "source": [
        "padded_corpus[0]"
      ],
      "execution_count": 54,
      "outputs": [
        {
          "output_type": "execute_result",
          "data": {
            "text/plain": [
              "array([   0,    0,    0,    0,    0,    0,    0,    0,    0,    0,    0,\n",
              "          0,    0,    0,    0,    0,   20, 1281, 3595, 1941], dtype=int32)"
            ]
          },
          "metadata": {
            "tags": []
          },
          "execution_count": 54
        }
      ]
    },
    {
      "cell_type": "markdown",
      "metadata": {
        "id": "rnupQP03nfOd",
        "colab_type": "text"
      },
      "source": [
        "# Using LSTM approach"
      ]
    },
    {
      "cell_type": "code",
      "metadata": {
        "id": "1vTkPwJfn9QO",
        "colab_type": "code",
        "colab": {
          "base_uri": "https://localhost:8080/",
          "height": 269
        },
        "outputId": "60789d7e-635d-4fe6-e8c5-21a8dfccc1f3"
      },
      "source": [
        "model=Sequential()\n",
        "model.add(Embedding(voc_size,40,input_length=sent_ln))\n",
        "model.add(LSTM(100))\n",
        "model.add(Dense(1,activation='sigmoid'))\n",
        "model.compile(loss='binary_crossentropy',optimizer='adam',metrics=['accuracy'])\n",
        "print(model.summary())"
      ],
      "execution_count": 55,
      "outputs": [
        {
          "output_type": "stream",
          "text": [
            "Model: \"sequential_5\"\n",
            "_________________________________________________________________\n",
            "Layer (type)                 Output Shape              Param #   \n",
            "=================================================================\n",
            "embedding_5 (Embedding)      (None, 20, 40)            200000    \n",
            "_________________________________________________________________\n",
            "lstm_5 (LSTM)                (None, 100)               56400     \n",
            "_________________________________________________________________\n",
            "dense_5 (Dense)              (None, 1)                 101       \n",
            "=================================================================\n",
            "Total params: 256,501\n",
            "Trainable params: 256,501\n",
            "Non-trainable params: 0\n",
            "_________________________________________________________________\n",
            "None\n"
          ],
          "name": "stdout"
        }
      ]
    },
    {
      "cell_type": "code",
      "metadata": {
        "id": "l3jvs0ZEpu29",
        "colab_type": "code",
        "colab": {}
      },
      "source": [
        "x_final=np.array(padded_corpus)\n",
        "y_final=np.array(y)"
      ],
      "execution_count": 56,
      "outputs": []
    },
    {
      "cell_type": "code",
      "metadata": {
        "id": "HOymWHOXqTMR",
        "colab_type": "code",
        "colab": {}
      },
      "source": [
        "X_train, X_test, y_train, y_test = train_test_split(x_final, y_final, test_size=0.20, random_state=42)"
      ],
      "execution_count": 57,
      "outputs": []
    },
    {
      "cell_type": "code",
      "metadata": {
        "id": "NVvtvji5qZ_-",
        "colab_type": "code",
        "colab": {
          "base_uri": "https://localhost:8080/",
          "height": 370
        },
        "outputId": "2da03937-97ba-46b8-a37e-bca39d3692e6"
      },
      "source": [
        "model.fit(X_train,y_train,validation_data=(X_test,y_test),epochs=10,batch_size=64)"
      ],
      "execution_count": 58,
      "outputs": [
        {
          "output_type": "stream",
          "text": [
            "Epoch 1/10\n",
            "6/6 [==============================] - 1s 92ms/step - loss: 0.6865 - accuracy: 0.7151 - val_loss: 0.6771 - val_accuracy: 0.7556\n",
            "Epoch 2/10\n",
            "6/6 [==============================] - 0s 63ms/step - loss: 0.6555 - accuracy: 0.7570 - val_loss: 0.6317 - val_accuracy: 0.6778\n",
            "Epoch 3/10\n",
            "6/6 [==============================] - 0s 32ms/step - loss: 0.5755 - accuracy: 0.7011 - val_loss: 0.5785 - val_accuracy: 0.6667\n",
            "Epoch 4/10\n",
            "6/6 [==============================] - 0s 30ms/step - loss: 0.5142 - accuracy: 0.7346 - val_loss: 0.5372 - val_accuracy: 0.7444\n",
            "Epoch 5/10\n",
            "6/6 [==============================] - 0s 31ms/step - loss: 0.4686 - accuracy: 0.7654 - val_loss: 0.5186 - val_accuracy: 0.7222\n",
            "Epoch 6/10\n",
            "6/6 [==============================] - 0s 32ms/step - loss: 0.4398 - accuracy: 0.7765 - val_loss: 0.4874 - val_accuracy: 0.7667\n",
            "Epoch 7/10\n",
            "6/6 [==============================] - 0s 30ms/step - loss: 0.4023 - accuracy: 0.8073 - val_loss: 0.4611 - val_accuracy: 0.7778\n",
            "Epoch 8/10\n",
            "6/6 [==============================] - 0s 31ms/step - loss: 0.3563 - accuracy: 0.8464 - val_loss: 0.4266 - val_accuracy: 0.9111\n",
            "Epoch 9/10\n",
            "6/6 [==============================] - 0s 29ms/step - loss: 0.3052 - accuracy: 0.9106 - val_loss: 0.4073 - val_accuracy: 0.8111\n",
            "Epoch 10/10\n",
            "6/6 [==============================] - 0s 28ms/step - loss: 0.2519 - accuracy: 0.9022 - val_loss: 0.3470 - val_accuracy: 0.9111\n"
          ],
          "name": "stdout"
        },
        {
          "output_type": "execute_result",
          "data": {
            "text/plain": [
              "<tensorflow.python.keras.callbacks.History at 0x7ff3f315fa20>"
            ]
          },
          "metadata": {
            "tags": []
          },
          "execution_count": 58
        }
      ]
    },
    {
      "cell_type": "code",
      "metadata": {
        "id": "aT4fO3l8qkWK",
        "colab_type": "code",
        "colab": {}
      },
      "source": [
        "y_pred=model.predict_classes(X_test)"
      ],
      "execution_count": 59,
      "outputs": []
    },
    {
      "cell_type": "code",
      "metadata": {
        "id": "_TliMlW0sHsl",
        "colab_type": "code",
        "colab": {}
      },
      "source": [
        "from sklearn.metrics import confusion_matrix"
      ],
      "execution_count": 60,
      "outputs": []
    },
    {
      "cell_type": "code",
      "metadata": {
        "id": "HPHALstqsTRO",
        "colab_type": "code",
        "colab": {
          "base_uri": "https://localhost:8080/",
          "height": 50
        },
        "outputId": "e561a786-8ad2-4e39-8d74-1595699c0387"
      },
      "source": [
        "confusion_matrix(y_test,y_pred)"
      ],
      "execution_count": 61,
      "outputs": [
        {
          "output_type": "execute_result",
          "data": {
            "text/plain": [
              "array([[40,  3],\n",
              "       [ 5, 42]])"
            ]
          },
          "metadata": {
            "tags": []
          },
          "execution_count": 61
        }
      ]
    },
    {
      "cell_type": "code",
      "metadata": {
        "id": "GvUPrRXEsWqN",
        "colab_type": "code",
        "colab": {
          "base_uri": "https://localhost:8080/",
          "height": 34
        },
        "outputId": "f1a299bc-513f-4e57-894f-2ea274690964"
      },
      "source": [
        "from sklearn.metrics import accuracy_score\n",
        "accuracy_score(y_test,y_pred)"
      ],
      "execution_count": 62,
      "outputs": [
        {
          "output_type": "execute_result",
          "data": {
            "text/plain": [
              "0.9111111111111111"
            ]
          },
          "metadata": {
            "tags": []
          },
          "execution_count": 62
        }
      ]
    },
    {
      "cell_type": "markdown",
      "metadata": {
        "id": "ZpbY88y_k8fe",
        "colab_type": "text"
      },
      "source": [
        "## Trying using Bidirectional LSTM"
      ]
    },
    {
      "cell_type": "code",
      "metadata": {
        "id": "eXHlMXvcsuiT",
        "colab_type": "code",
        "colab": {
          "base_uri": "https://localhost:8080/",
          "height": 269
        },
        "outputId": "d0391b3d-ac89-4296-f6fe-213a9516868b"
      },
      "source": [
        "model1=Sequential()\n",
        "model1.add(Embedding(voc_size,40,input_length=sent_ln))\n",
        "model1.add(Bidirectional(LSTM(100)))\n",
        "model1.add(Dense(1,activation='sigmoid'))\n",
        "model1.compile(loss='binary_crossentropy',optimizer='adam',metrics=['accuracy'])\n",
        "print(model1.summary())"
      ],
      "execution_count": 63,
      "outputs": [
        {
          "output_type": "stream",
          "text": [
            "Model: \"sequential_6\"\n",
            "_________________________________________________________________\n",
            "Layer (type)                 Output Shape              Param #   \n",
            "=================================================================\n",
            "embedding_6 (Embedding)      (None, 20, 40)            200000    \n",
            "_________________________________________________________________\n",
            "bidirectional_4 (Bidirection (None, 200)               112800    \n",
            "_________________________________________________________________\n",
            "dense_6 (Dense)              (None, 1)                 201       \n",
            "=================================================================\n",
            "Total params: 313,001\n",
            "Trainable params: 313,001\n",
            "Non-trainable params: 0\n",
            "_________________________________________________________________\n",
            "None\n"
          ],
          "name": "stdout"
        }
      ]
    },
    {
      "cell_type": "code",
      "metadata": {
        "id": "Onb4wIGoldFj",
        "colab_type": "code",
        "colab": {
          "base_uri": "https://localhost:8080/",
          "height": 370
        },
        "outputId": "91445c82-e057-4daa-ee69-2d3b9a036f39"
      },
      "source": [
        "model1.fit(X_train,y_train,validation_data=(X_test,y_test),epochs=10,batch_size=64)"
      ],
      "execution_count": 64,
      "outputs": [
        {
          "output_type": "stream",
          "text": [
            "Epoch 1/10\n",
            "6/6 [==============================] - 1s 157ms/step - loss: 0.6882 - accuracy: 0.6145 - val_loss: 0.6777 - val_accuracy: 0.7444\n",
            "Epoch 2/10\n",
            "6/6 [==============================] - 0s 41ms/step - loss: 0.6609 - accuracy: 0.7151 - val_loss: 0.6367 - val_accuracy: 0.6667\n",
            "Epoch 3/10\n",
            "6/6 [==============================] - 0s 42ms/step - loss: 0.5822 - accuracy: 0.7123 - val_loss: 0.5265 - val_accuracy: 0.7333\n",
            "Epoch 4/10\n",
            "6/6 [==============================] - 0s 43ms/step - loss: 0.4453 - accuracy: 0.7989 - val_loss: 0.3836 - val_accuracy: 0.8556\n",
            "Epoch 5/10\n",
            "6/6 [==============================] - 0s 43ms/step - loss: 0.2932 - accuracy: 0.8687 - val_loss: 0.3737 - val_accuracy: 0.8556\n",
            "Epoch 6/10\n",
            "6/6 [==============================] - 0s 41ms/step - loss: 0.1673 - accuracy: 0.9385 - val_loss: 0.2852 - val_accuracy: 0.9222\n",
            "Epoch 7/10\n",
            "6/6 [==============================] - 0s 43ms/step - loss: 0.0667 - accuracy: 0.9777 - val_loss: 0.3273 - val_accuracy: 0.9111\n",
            "Epoch 8/10\n",
            "6/6 [==============================] - 0s 42ms/step - loss: 0.0338 - accuracy: 0.9944 - val_loss: 0.3257 - val_accuracy: 0.9222\n",
            "Epoch 9/10\n",
            "6/6 [==============================] - 0s 41ms/step - loss: 0.0243 - accuracy: 0.9944 - val_loss: 0.3519 - val_accuracy: 0.9111\n",
            "Epoch 10/10\n",
            "6/6 [==============================] - 0s 41ms/step - loss: 0.0096 - accuracy: 0.9972 - val_loss: 0.3945 - val_accuracy: 0.9000\n"
          ],
          "name": "stdout"
        },
        {
          "output_type": "execute_result",
          "data": {
            "text/plain": [
              "<tensorflow.python.keras.callbacks.History at 0x7ff3f39b0390>"
            ]
          },
          "metadata": {
            "tags": []
          },
          "execution_count": 64
        }
      ]
    },
    {
      "cell_type": "code",
      "metadata": {
        "id": "rx4avaDdme1u",
        "colab_type": "code",
        "colab": {}
      },
      "source": [
        "y_pred_model1=model1.predict_classes(X_test)"
      ],
      "execution_count": 65,
      "outputs": []
    },
    {
      "cell_type": "code",
      "metadata": {
        "id": "tzFAYnOgmuo4",
        "colab_type": "code",
        "colab": {
          "base_uri": "https://localhost:8080/",
          "height": 50
        },
        "outputId": "2592e3ab-68d7-4045-94b2-682ee896bab4"
      },
      "source": [
        "confusion_matrix(y_test,y_pred_model1)"
      ],
      "execution_count": 66,
      "outputs": [
        {
          "output_type": "execute_result",
          "data": {
            "text/plain": [
              "array([[37,  6],\n",
              "       [ 3, 44]])"
            ]
          },
          "metadata": {
            "tags": []
          },
          "execution_count": 66
        }
      ]
    },
    {
      "cell_type": "code",
      "metadata": {
        "id": "F-YwZ861m3fc",
        "colab_type": "code",
        "colab": {
          "base_uri": "https://localhost:8080/",
          "height": 34
        },
        "outputId": "e5cccb4e-899c-4728-fbaf-ccfe83dc6e33"
      },
      "source": [
        "accuracy_score(y_test,y_pred_model1)"
      ],
      "execution_count": 67,
      "outputs": [
        {
          "output_type": "execute_result",
          "data": {
            "text/plain": [
              "0.9"
            ]
          },
          "metadata": {
            "tags": []
          },
          "execution_count": 67
        }
      ]
    },
    {
      "cell_type": "code",
      "metadata": {
        "id": "lUEz_j0Km91J",
        "colab_type": "code",
        "colab": {}
      },
      "source": [
        ""
      ],
      "execution_count": null,
      "outputs": []
    }
  ]
}