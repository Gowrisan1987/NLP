{
  "nbformat": 4,
  "nbformat_minor": 0,
  "metadata": {
    "colab": {
      "name": "smsspamclassifier.ipynb",
      "provenance": [],
      "collapsed_sections": []
    },
    "kernelspec": {
      "name": "python3",
      "display_name": "Python 3"
    }
  },
  "cells": [
    {
      "cell_type": "code",
      "metadata": {
        "id": "MNAdEI6iHs6j",
        "colab_type": "code",
        "colab": {}
      },
      "source": [
        "import numpy as np\n",
        "import pandas as pd\n",
        "import spacy\n",
        "from sklearn.feature_extraction.text import CountVectorizer\n",
        "from sklearn.feature_extraction.text import TfidfTransformer\n",
        "from sklearn.naive_bayes import MultinomialNB\n",
        "from sklearn.model_selection import train_test_split"
      ],
      "execution_count": 0,
      "outputs": []
    },
    {
      "cell_type": "code",
      "metadata": {
        "id": "NYWKrl3XKbjU",
        "colab_type": "code",
        "outputId": "bdd7eaa4-a55f-4aec-e60c-26d1c601c4eb",
        "colab": {
          "base_uri": "https://localhost:8080/",
          "height": 121
        }
      },
      "source": [
        "from google.colab import drive\n",
        "drive.mount('/content/drive')"
      ],
      "execution_count": 2,
      "outputs": [
        {
          "output_type": "stream",
          "text": [
            "Go to this URL in a browser: https://accounts.google.com/o/oauth2/auth?client_id=947318989803-6bn6qk8qdgf4n4g3pfee6491hc0brc4i.apps.googleusercontent.com&redirect_uri=urn%3aietf%3awg%3aoauth%3a2.0%3aoob&response_type=code&scope=email%20https%3a%2f%2fwww.googleapis.com%2fauth%2fdocs.test%20https%3a%2f%2fwww.googleapis.com%2fauth%2fdrive%20https%3a%2f%2fwww.googleapis.com%2fauth%2fdrive.photos.readonly%20https%3a%2f%2fwww.googleapis.com%2fauth%2fpeopleapi.readonly\n",
            "\n",
            "Enter your authorization code:\n",
            "··········\n",
            "Mounted at /content/drive\n"
          ],
          "name": "stdout"
        }
      ]
    },
    {
      "cell_type": "code",
      "metadata": {
        "id": "mW209n-OKsib",
        "colab_type": "code",
        "colab": {}
      },
      "source": [
        "path=\"/content/drive/My Drive/Hackathon/SMSSpamCollection\""
      ],
      "execution_count": 0,
      "outputs": []
    },
    {
      "cell_type": "code",
      "metadata": {
        "id": "0Ba5NbPFLiFN",
        "colab_type": "code",
        "colab": {}
      },
      "source": [
        "sms=pd.read_csv(path,sep='\\t',names=['Label','Message'])"
      ],
      "execution_count": 0,
      "outputs": []
    },
    {
      "cell_type": "code",
      "metadata": {
        "id": "gNrHOB3JMVdi",
        "colab_type": "code",
        "outputId": "e6dd4277-875d-4cc4-b6c3-2d6ca2681e45",
        "colab": {
          "base_uri": "https://localhost:8080/",
          "height": 195
        }
      },
      "source": [
        "sms.head()"
      ],
      "execution_count": 5,
      "outputs": [
        {
          "output_type": "execute_result",
          "data": {
            "text/html": [
              "<div>\n",
              "<style scoped>\n",
              "    .dataframe tbody tr th:only-of-type {\n",
              "        vertical-align: middle;\n",
              "    }\n",
              "\n",
              "    .dataframe tbody tr th {\n",
              "        vertical-align: top;\n",
              "    }\n",
              "\n",
              "    .dataframe thead th {\n",
              "        text-align: right;\n",
              "    }\n",
              "</style>\n",
              "<table border=\"1\" class=\"dataframe\">\n",
              "  <thead>\n",
              "    <tr style=\"text-align: right;\">\n",
              "      <th></th>\n",
              "      <th>Label</th>\n",
              "      <th>Message</th>\n",
              "    </tr>\n",
              "  </thead>\n",
              "  <tbody>\n",
              "    <tr>\n",
              "      <th>0</th>\n",
              "      <td>ham</td>\n",
              "      <td>Go until jurong point, crazy.. Available only ...</td>\n",
              "    </tr>\n",
              "    <tr>\n",
              "      <th>1</th>\n",
              "      <td>ham</td>\n",
              "      <td>Ok lar... Joking wif u oni...</td>\n",
              "    </tr>\n",
              "    <tr>\n",
              "      <th>2</th>\n",
              "      <td>spam</td>\n",
              "      <td>Free entry in 2 a wkly comp to win FA Cup fina...</td>\n",
              "    </tr>\n",
              "    <tr>\n",
              "      <th>3</th>\n",
              "      <td>ham</td>\n",
              "      <td>U dun say so early hor... U c already then say...</td>\n",
              "    </tr>\n",
              "    <tr>\n",
              "      <th>4</th>\n",
              "      <td>ham</td>\n",
              "      <td>Nah I don't think he goes to usf, he lives aro...</td>\n",
              "    </tr>\n",
              "  </tbody>\n",
              "</table>\n",
              "</div>"
            ],
            "text/plain": [
              "  Label                                            Message\n",
              "0   ham  Go until jurong point, crazy.. Available only ...\n",
              "1   ham                      Ok lar... Joking wif u oni...\n",
              "2  spam  Free entry in 2 a wkly comp to win FA Cup fina...\n",
              "3   ham  U dun say so early hor... U c already then say...\n",
              "4   ham  Nah I don't think he goes to usf, he lives aro..."
            ]
          },
          "metadata": {
            "tags": []
          },
          "execution_count": 5
        }
      ]
    },
    {
      "cell_type": "code",
      "metadata": {
        "id": "8xFCM7N6hnNQ",
        "colab_type": "code",
        "outputId": "0f67ab6b-6813-458d-8d73-99fcab3d9cba",
        "colab": {
          "base_uri": "https://localhost:8080/",
          "height": 34
        }
      },
      "source": [
        "sms.shape"
      ],
      "execution_count": 6,
      "outputs": [
        {
          "output_type": "execute_result",
          "data": {
            "text/plain": [
              "(5572, 2)"
            ]
          },
          "metadata": {
            "tags": []
          },
          "execution_count": 6
        }
      ]
    },
    {
      "cell_type": "code",
      "metadata": {
        "id": "eLZchOhCNvwv",
        "colab_type": "code",
        "outputId": "b4d0008b-cef2-45c7-84e3-062bc467d2bc",
        "colab": {
          "base_uri": "https://localhost:8080/",
          "height": 67
        }
      },
      "source": [
        "sms['Label'].value_counts()"
      ],
      "execution_count": 7,
      "outputs": [
        {
          "output_type": "execute_result",
          "data": {
            "text/plain": [
              "ham     4825\n",
              "spam     747\n",
              "Name: Label, dtype: int64"
            ]
          },
          "metadata": {
            "tags": []
          },
          "execution_count": 7
        }
      ]
    },
    {
      "cell_type": "code",
      "metadata": {
        "id": "rQmrfrlmR0G_",
        "colab_type": "code",
        "outputId": "d2be1e11-483d-460f-a760-2f09f1a34dc6",
        "colab": {
          "base_uri": "https://localhost:8080/",
          "height": 34
        }
      },
      "source": [
        "sms.isnull().values.any()"
      ],
      "execution_count": 8,
      "outputs": [
        {
          "output_type": "execute_result",
          "data": {
            "text/plain": [
              "False"
            ]
          },
          "metadata": {
            "tags": []
          },
          "execution_count": 8
        }
      ]
    },
    {
      "cell_type": "code",
      "metadata": {
        "id": "OmMyf8DsR7Y8",
        "colab_type": "code",
        "outputId": "def0d3bc-7166-48e7-8466-4530aef8a681",
        "colab": {
          "base_uri": "https://localhost:8080/",
          "height": 34
        }
      },
      "source": [
        "#sms.isnull().sum().sum()"
      ],
      "execution_count": 0,
      "outputs": [
        {
          "output_type": "execute_result",
          "data": {
            "text/plain": [
              "0"
            ]
          },
          "metadata": {
            "tags": []
          },
          "execution_count": 31
        }
      ]
    },
    {
      "cell_type": "code",
      "metadata": {
        "id": "NLhlwtFqUbLp",
        "colab_type": "code",
        "colab": {}
      },
      "source": [
        "nlp=spacy.load('en_core_web_sm')"
      ],
      "execution_count": 0,
      "outputs": []
    },
    {
      "cell_type": "code",
      "metadata": {
        "id": "bW4LZOQ9UmyT",
        "colab_type": "code",
        "colab": {}
      },
      "source": [
        "#docsms=nlp(sms['Message'][0])"
      ],
      "execution_count": 0,
      "outputs": []
    },
    {
      "cell_type": "code",
      "metadata": {
        "id": "N3z9GoJMU_ST",
        "colab_type": "code",
        "outputId": "b0123a5c-2067-4dc4-92ef-d3668a44d90a",
        "colab": {
          "base_uri": "https://localhost:8080/",
          "height": 34
        }
      },
      "source": [
        "type(docsms)"
      ],
      "execution_count": 0,
      "outputs": [
        {
          "output_type": "execute_result",
          "data": {
            "text/plain": [
              "spacy.tokens.doc.Doc"
            ]
          },
          "metadata": {
            "tags": []
          },
          "execution_count": 12
        }
      ]
    },
    {
      "cell_type": "code",
      "metadata": {
        "id": "4Lk7mvjRVVOk",
        "colab_type": "code",
        "outputId": "6dbbd605-829e-4f1d-f5b5-7d59b8e0409a",
        "colab": {
          "base_uri": "https://localhost:8080/",
          "height": 34
        }
      },
      "source": [
        "len(doc1)"
      ],
      "execution_count": 0,
      "outputs": [
        {
          "output_type": "execute_result",
          "data": {
            "text/plain": [
              "20"
            ]
          },
          "metadata": {
            "tags": []
          },
          "execution_count": 19
        }
      ]
    },
    {
      "cell_type": "markdown",
      "metadata": {
        "id": "ESxlpTDlQpK7",
        "colab_type": "text"
      },
      "source": [
        "# Clean function to remove punc and stopwords. Final step is to use lemmatized words"
      ]
    },
    {
      "cell_type": "code",
      "metadata": {
        "id": "r1KRShScQAL1",
        "colab_type": "code",
        "colab": {}
      },
      "source": [
        "def clean_text(token):\n",
        "  if token.is_stop==False and token.is_punct==False and not token.is_space and token.lemma_!='-PRON-':\n",
        "    return True\n",
        "  return False\n",
        "\n",
        "def lemma_text(text):\n",
        "    cleaned_text=[token.lemma_.lower() for token in nlp(text) if clean_text(token)]\n",
        "    return cleaned_text\n"
      ],
      "execution_count": 0,
      "outputs": []
    },
    {
      "cell_type": "code",
      "metadata": {
        "id": "F9PVz7VcRZQk",
        "colab_type": "code",
        "outputId": "78dd6343-7678-4cf2-ae58-ab3a3c00c98d",
        "colab": {
          "base_uri": "https://localhost:8080/",
          "height": 50
        }
      },
      "source": [
        "sms['Message'].head(1).apply(lambda x: lemma_text(x))"
      ],
      "execution_count": 20,
      "outputs": [
        {
          "output_type": "execute_result",
          "data": {
            "text/plain": [
              "0    [jurong, point, crazy, available, bugis, n, gr...\n",
              "Name: Message, dtype: object"
            ]
          },
          "metadata": {
            "tags": []
          },
          "execution_count": 20
        }
      ]
    },
    {
      "cell_type": "code",
      "metadata": {
        "id": "46Ssj6ppdYEV",
        "colab_type": "code",
        "colab": {}
      },
      "source": [
        "smscnt=CountVectorizer(analyzer=lemma_text,max_features=1000)\n",
        "xcnt=smscnt.fit_transform(sms['Message'])\n"
      ],
      "execution_count": 0,
      "outputs": []
    },
    {
      "cell_type": "code",
      "metadata": {
        "id": "ixTDHg3vNRP9",
        "colab_type": "code",
        "colab": {
          "base_uri": "https://localhost:8080/",
          "height": 84
        },
        "outputId": "24fc31cf-d5d3-4151-b72d-479ed0d641be"
      },
      "source": [
        "test=nlp(\"$ + | data\")\n",
        "for a in test:\n",
        "  if a.is_punct==False:\n",
        "    print(a)"
      ],
      "execution_count": 18,
      "outputs": [
        {
          "output_type": "stream",
          "text": [
            "$\n",
            "+\n",
            "|\n",
            "data\n"
          ],
          "name": "stdout"
        }
      ]
    },
    {
      "cell_type": "code",
      "metadata": {
        "id": "6v4A-1_7IApH",
        "colab_type": "code",
        "colab": {
          "base_uri": "https://localhost:8080/",
          "height": 1000
        },
        "outputId": "7fd37ef7-2900-4121-dbbf-1ef188b8e556"
      },
      "source": [
        "smscnt.get_feature_names()"
      ],
      "execution_count": 22,
      "outputs": [
        {
          "output_type": "execute_result",
          "data": {
            "text/plain": [
              "['$',\n",
              " '+',\n",
              " '0800',\n",
              " '08000839402',\n",
              " '08000930705',\n",
              " '0870',\n",
              " '1',\n",
              " '1.50',\n",
              " '10',\n",
              " '100',\n",
              " '1000',\n",
              " '10p',\n",
              " '11',\n",
              " '12',\n",
              " '12hrs',\n",
              " '150',\n",
              " '150p',\n",
              " '150ppm',\n",
              " '16',\n",
              " '18',\n",
              " '1st',\n",
              " '2',\n",
              " '2,000',\n",
              " '20',\n",
              " '200',\n",
              " '2000',\n",
              " '2003',\n",
              " '2004',\n",
              " '20p',\n",
              " '250',\n",
              " '25p',\n",
              " '2day',\n",
              " '2nd',\n",
              " '2nite',\n",
              " '3',\n",
              " '3030',\n",
              " '350',\n",
              " '4',\n",
              " '40',\n",
              " '4u',\n",
              " '5',\n",
              " '50',\n",
              " '500',\n",
              " '5000',\n",
              " '5we',\n",
              " '6',\n",
              " '7',\n",
              " '750',\n",
              " '8',\n",
              " '800',\n",
              " '8007',\n",
              " '86688',\n",
              " '87066',\n",
              " '87077',\n",
              " '9',\n",
              " '900',\n",
              " '=',\n",
              " '>',\n",
              " 'abiola',\n",
              " 'able',\n",
              " 'abt',\n",
              " 'accept',\n",
              " 'access',\n",
              " 'account',\n",
              " 'actually',\n",
              " 'add',\n",
              " 'address',\n",
              " 'admirer',\n",
              " 'aft',\n",
              " 'afternoon',\n",
              " 'age',\n",
              " 'ago',\n",
              " 'ah',\n",
              " 'aight',\n",
              " 'al',\n",
              " 'alex',\n",
              " 'alright',\n",
              " 'amp',\n",
              " 'angry',\n",
              " 'ans',\n",
              " 'answer',\n",
              " 'anymore',\n",
              " 'anytime',\n",
              " 'apartment',\n",
              " 'apply',\n",
              " 'appreciate',\n",
              " 'ar',\n",
              " 'ard',\n",
              " 'area',\n",
              " 'arrive',\n",
              " 'asap',\n",
              " 'ask',\n",
              " 'askd',\n",
              " 'ass',\n",
              " 'attempt',\n",
              " 'auction',\n",
              " 'available',\n",
              " 'ave',\n",
              " 'await',\n",
              " 'award',\n",
              " 'away',\n",
              " 'awesome',\n",
              " 'b',\n",
              " \"b'day\",\n",
              " 'b4',\n",
              " 'babe',\n",
              " 'baby',\n",
              " 'bad',\n",
              " 'bag',\n",
              " 'bak',\n",
              " 'balance',\n",
              " 'bank',\n",
              " 'bath',\n",
              " 'bathe',\n",
              " 'bb',\n",
              " 'bcoz',\n",
              " 'be',\n",
              " 'beautiful',\n",
              " 'bed',\n",
              " 'believe',\n",
              " 'better',\n",
              " 'bid',\n",
              " 'big',\n",
              " 'bill',\n",
              " 'birthday',\n",
              " 'bit',\n",
              " 'blue',\n",
              " 'bluetooth',\n",
              " 'bonus',\n",
              " 'book',\n",
              " 'bore',\n",
              " 'bored',\n",
              " 'boss',\n",
              " 'bother',\n",
              " 'bout',\n",
              " 'box',\n",
              " 'boy',\n",
              " 'boytoy',\n",
              " 'break',\n",
              " 'bring',\n",
              " 'brother',\n",
              " 'bslvyl',\n",
              " 'bt',\n",
              " 'bus',\n",
              " 'busy',\n",
              " 'buy',\n",
              " 'c',\n",
              " 'cake',\n",
              " 'call',\n",
              " 'call2optout',\n",
              " 'caller',\n",
              " 'callertune',\n",
              " 'camcorder',\n",
              " 'camera',\n",
              " 'cancel',\n",
              " 'car',\n",
              " 'card',\n",
              " 'care',\n",
              " 'carlos',\n",
              " 'case',\n",
              " 'cash',\n",
              " 'catch',\n",
              " 'cause',\n",
              " 'cd',\n",
              " 'chance',\n",
              " 'change',\n",
              " 'charge',\n",
              " 'charity',\n",
              " 'chat',\n",
              " 'cheap',\n",
              " 'check',\n",
              " 'cheer',\n",
              " 'chennai',\n",
              " 'chikku',\n",
              " 'child',\n",
              " 'choose',\n",
              " 'christmas',\n",
              " 'cinema',\n",
              " 'claim',\n",
              " 'class',\n",
              " 'clean',\n",
              " 'clear',\n",
              " 'close',\n",
              " 'club',\n",
              " 'co',\n",
              " 'code',\n",
              " 'coffee',\n",
              " 'collect',\n",
              " 'collection',\n",
              " 'college',\n",
              " 'colour',\n",
              " 'come',\n",
              " 'comin',\n",
              " 'comp',\n",
              " 'company',\n",
              " 'complete',\n",
              " 'completely',\n",
              " 'complimentary',\n",
              " 'computer',\n",
              " 'confirm',\n",
              " 'congrat',\n",
              " 'congratulation',\n",
              " 'contact',\n",
              " 'content',\n",
              " 'convey',\n",
              " 'cool',\n",
              " 'copy',\n",
              " 'correct',\n",
              " 'cos',\n",
              " 'cost',\n",
              " 'couple',\n",
              " 'course',\n",
              " 'coz',\n",
              " 'crave',\n",
              " 'crazy',\n",
              " 'credit',\n",
              " 'cs',\n",
              " 'cum',\n",
              " 'cup',\n",
              " 'currently',\n",
              " 'customer',\n",
              " 'cut',\n",
              " 'cute',\n",
              " 'd',\n",
              " 'da',\n",
              " 'dad',\n",
              " 'daddy',\n",
              " 'darlin',\n",
              " 'darren',\n",
              " 'dat',\n",
              " 'date',\n",
              " 'day',\n",
              " 'de',\n",
              " 'dead',\n",
              " 'deal',\n",
              " 'dear',\n",
              " 'decide',\n",
              " 'deep',\n",
              " 'del',\n",
              " 'deliver',\n",
              " 'delivery',\n",
              " 'den',\n",
              " 'detail',\n",
              " 'die',\n",
              " 'different',\n",
              " 'difficult',\n",
              " 'digital',\n",
              " 'din',\n",
              " 'dinner',\n",
              " 'direct',\n",
              " 'dis',\n",
              " 'discount',\n",
              " 'disturb',\n",
              " 'dnt',\n",
              " 'doctor',\n",
              " 'dog',\n",
              " 'dogging',\n",
              " 'don',\n",
              " 'door',\n",
              " 'double',\n",
              " 'download',\n",
              " 'draw',\n",
              " 'dream',\n",
              " 'drink',\n",
              " 'drive',\n",
              " 'drop',\n",
              " 'drug',\n",
              " 'dude',\n",
              " 'dun',\n",
              " 'dunno',\n",
              " 'dvd',\n",
              " 'e',\n",
              " 'earlier',\n",
              " 'early',\n",
              " 'easy',\n",
              " 'eat',\n",
              " 'eg',\n",
              " 'egg',\n",
              " 'eh',\n",
              " 'email',\n",
              " 'end',\n",
              " 'energy',\n",
              " 'england',\n",
              " 'enjoy',\n",
              " 'enter',\n",
              " 'entitle',\n",
              " 'entry',\n",
              " 'especially',\n",
              " 'etc',\n",
              " 'eve',\n",
              " 'evening',\n",
              " 'ex',\n",
              " 'exam',\n",
              " 'excellent',\n",
              " 'excuse',\n",
              " 'expect',\n",
              " 'expire',\n",
              " 'extra',\n",
              " 'eye',\n",
              " 'f',\n",
              " 'face',\n",
              " 'facebook',\n",
              " 'fact',\n",
              " 'fall',\n",
              " 'family',\n",
              " 'fancy',\n",
              " 'fantastic',\n",
              " 'fantasy',\n",
              " 'far',\n",
              " 'fast',\n",
              " 'fat',\n",
              " 'father',\n",
              " 'feel',\n",
              " 'fight',\n",
              " 'figure',\n",
              " 'file',\n",
              " 'fill',\n",
              " 'film',\n",
              " 'final',\n",
              " 'finally',\n",
              " 'find',\n",
              " 'fine',\n",
              " 'finger',\n",
              " 'finish',\n",
              " 'fix',\n",
              " 'flag',\n",
              " 'flirt',\n",
              " 'follow',\n",
              " 'fone',\n",
              " 'food',\n",
              " 'forever',\n",
              " 'forget',\n",
              " 'forgot',\n",
              " 'forward',\n",
              " 'fr',\n",
              " 'free',\n",
              " 'freemsg',\n",
              " 'freephone',\n",
              " 'fren',\n",
              " 'fri',\n",
              " 'friday',\n",
              " 'friend',\n",
              " 'friendship',\n",
              " 'frm',\n",
              " 'frnd',\n",
              " 'fuck',\n",
              " 'fucking',\n",
              " 'fun',\n",
              " 'future',\n",
              " 'g',\n",
              " 'gal',\n",
              " 'game',\n",
              " 'gap',\n",
              " 'gas',\n",
              " 'gay',\n",
              " 'gd',\n",
              " 'get',\n",
              " 'gettin',\n",
              " 'gift',\n",
              " 'girl',\n",
              " 'give',\n",
              " 'glad',\n",
              " 'go',\n",
              " 'god',\n",
              " 'good',\n",
              " 'goodmorning',\n",
              " 'goodnight',\n",
              " 'got',\n",
              " 'goto',\n",
              " 'gr8',\n",
              " 'great',\n",
              " 'grin',\n",
              " 'gt',\n",
              " 'guarantee',\n",
              " 'guaranteed',\n",
              " 'gud',\n",
              " 'guess',\n",
              " 'guy',\n",
              " 'gym',\n",
              " 'ha',\n",
              " 'haf',\n",
              " 'haha',\n",
              " 'hair',\n",
              " 'half',\n",
              " 'hand',\n",
              " 'happen',\n",
              " 'happiness',\n",
              " 'happy',\n",
              " 'hard',\n",
              " 'hav',\n",
              " 'have',\n",
              " 'head',\n",
              " 'hear',\n",
              " 'heart',\n",
              " 'heavy',\n",
              " 'hee',\n",
              " 'hello',\n",
              " 'help',\n",
              " 'hey',\n",
              " 'hg',\n",
              " 'hi',\n",
              " 'high',\n",
              " 'hit',\n",
              " 'hiya',\n",
              " 'hmm',\n",
              " 'hmmm',\n",
              " 'hmv',\n",
              " 'ho',\n",
              " 'hold',\n",
              " 'holiday',\n",
              " 'home',\n",
              " 'hope',\n",
              " 'horny',\n",
              " 'hospital',\n",
              " 'hot',\n",
              " 'hotel',\n",
              " 'hour',\n",
              " 'house',\n",
              " 'huh',\n",
              " 'hungry',\n",
              " 'hurt',\n",
              " 'hw',\n",
              " \"i'm\",\n",
              " 'i.',\n",
              " 'i.ll',\n",
              " 'iam',\n",
              " 'ice',\n",
              " 'idea',\n",
              " 'identifier',\n",
              " 'il',\n",
              " 'ill',\n",
              " 'im',\n",
              " 'immediately',\n",
              " 'important',\n",
              " 'inc',\n",
              " 'include',\n",
              " 'india',\n",
              " 'info',\n",
              " 'inform',\n",
              " 'information',\n",
              " 'inside',\n",
              " 'interested',\n",
              " 'invite',\n",
              " 'ipod',\n",
              " 'issue',\n",
              " 'izzit',\n",
              " 'j',\n",
              " 'jay',\n",
              " 'job',\n",
              " 'john',\n",
              " 'join',\n",
              " 'joke',\n",
              " 'joy',\n",
              " 'jus',\n",
              " 'juz',\n",
              " 'k',\n",
              " 'k.',\n",
              " 'kate',\n",
              " 'keep',\n",
              " 'kick',\n",
              " 'kid',\n",
              " 'kind',\n",
              " 'kinda',\n",
              " 'king',\n",
              " 'kiss',\n",
              " 'know',\n",
              " 'knw',\n",
              " 'lady',\n",
              " 'land',\n",
              " 'landline',\n",
              " 'laptop',\n",
              " 'lar',\n",
              " 'late',\n",
              " 'later',\n",
              " 'laugh',\n",
              " 'lay',\n",
              " 'lazy',\n",
              " 'ldn',\n",
              " 'learn',\n",
              " 'leave',\n",
              " 'lect',\n",
              " 'leh',\n",
              " 'lei',\n",
              " 'lemme',\n",
              " 'lesson',\n",
              " 'let',\n",
              " 'letter',\n",
              " 'liao',\n",
              " 'library',\n",
              " 'life',\n",
              " 'lift',\n",
              " 'light',\n",
              " 'like',\n",
              " 'line',\n",
              " 'link',\n",
              " 'list',\n",
              " 'listen',\n",
              " 'little',\n",
              " 'live',\n",
              " 'load',\n",
              " 'loan',\n",
              " 'location',\n",
              " 'log',\n",
              " 'lol',\n",
              " 'long',\n",
              " 'look',\n",
              " 'lor',\n",
              " 'lose',\n",
              " 'lot',\n",
              " 'lovable',\n",
              " 'love',\n",
              " 'lovely',\n",
              " 'lover',\n",
              " 'lt;#&gt',\n",
              " 'lt;decimal&gt',\n",
              " 'ltd',\n",
              " 'luck',\n",
              " 'lucky',\n",
              " 'lunch',\n",
              " 'luv',\n",
              " 'm',\n",
              " 'm.',\n",
              " 'mah',\n",
              " 'mail',\n",
              " 'make',\n",
              " 'man',\n",
              " 'march',\n",
              " 'mark',\n",
              " 'marry',\n",
              " 'match',\n",
              " 'mate',\n",
              " 'mayb',\n",
              " 'maybe',\n",
              " 'mean',\n",
              " 'med',\n",
              " 'medical',\n",
              " 'meet',\n",
              " 'meeting',\n",
              " 'meh',\n",
              " 'member',\n",
              " 'merry',\n",
              " 'message',\n",
              " 'mid',\n",
              " 'min',\n",
              " 'mind',\n",
              " 'mins',\n",
              " 'minute',\n",
              " 'miracle',\n",
              " 'miss',\n",
              " 'mistake',\n",
              " 'mm',\n",
              " 'mo',\n",
              " 'mob',\n",
              " 'mobile',\n",
              " 'mobileupd8',\n",
              " 'mode',\n",
              " 'model',\n",
              " 'mom',\n",
              " 'moment',\n",
              " 'mon',\n",
              " 'monday',\n",
              " 'money',\n",
              " 'month',\n",
              " 'mood',\n",
              " 'moon',\n",
              " 'moral',\n",
              " 'morning',\n",
              " 'motorola',\n",
              " 'movie',\n",
              " 'mr',\n",
              " 'mrng',\n",
              " 'mrt',\n",
              " 'msg',\n",
              " 'msgs',\n",
              " 'mu',\n",
              " 'mum',\n",
              " 'murder',\n",
              " 'music',\n",
              " 'muz',\n",
              " 'n',\n",
              " 'na',\n",
              " 'nah',\n",
              " 'national',\n",
              " 'near',\n",
              " 'need',\n",
              " 'net',\n",
              " 'network',\n",
              " 'neva',\n",
              " 'new',\n",
              " 'news',\n",
              " 'ni8',\n",
              " 'nice',\n",
              " 'nigeria',\n",
              " 'night',\n",
              " 'nite',\n",
              " 'no1',\n",
              " 'noe',\n",
              " 'nokia',\n",
              " 'noon',\n",
              " 'nope',\n",
              " 'normal',\n",
              " 'not',\n",
              " 'nt',\n",
              " 'ntt',\n",
              " 'number',\n",
              " 'nyt',\n",
              " 'o',\n",
              " 'offer',\n",
              " 'office',\n",
              " 'oh',\n",
              " 'ok',\n",
              " 'okay',\n",
              " 'okie',\n",
              " 'old',\n",
              " 'omg',\n",
              " 'one',\n",
              " 'online',\n",
              " 'oops',\n",
              " 'open',\n",
              " 'operator',\n",
              " 'opinion',\n",
              " 'opt',\n",
              " 'orange',\n",
              " 'orchard',\n",
              " 'order',\n",
              " 'oredi',\n",
              " 'oso',\n",
              " 'outside',\n",
              " 'p.m.',\n",
              " 'pa',\n",
              " 'page',\n",
              " 'pain',\n",
              " 'paper',\n",
              " 'parent',\n",
              " 'park',\n",
              " 'party',\n",
              " 'pass',\n",
              " 'pay',\n",
              " 'pc',\n",
              " 'people',\n",
              " 'person',\n",
              " 'pete',\n",
              " 'phone',\n",
              " 'photo',\n",
              " 'pic',\n",
              " 'pick',\n",
              " 'picture',\n",
              " 'pix',\n",
              " 'pizza',\n",
              " 'place',\n",
              " 'plan',\n",
              " 'play',\n",
              " 'player',\n",
              " 'pleasure',\n",
              " 'pls',\n",
              " 'plus',\n",
              " 'plz',\n",
              " 'pm',\n",
              " 'po',\n",
              " 'pobox',\n",
              " 'point',\n",
              " 'police',\n",
              " 'poly',\n",
              " 'polys',\n",
              " 'poor',\n",
              " 'possible',\n",
              " 'post',\n",
              " 'pound',\n",
              " 'power',\n",
              " 'pray',\n",
              " 'present',\n",
              " 'press',\n",
              " 'pretty',\n",
              " 'price',\n",
              " 'princess',\n",
              " 'private',\n",
              " 'prize',\n",
              " 'prob',\n",
              " 'probably',\n",
              " 'problem',\n",
              " 'project',\n",
              " 'promise',\n",
              " 'pub',\n",
              " 'question',\n",
              " 'quick',\n",
              " 'quiz',\n",
              " 'quote',\n",
              " 'r',\n",
              " 'r*reveal',\n",
              " 'rain',\n",
              " 'rakhesh',\n",
              " 'rate',\n",
              " 'rcvd',\n",
              " 'reach',\n",
              " 'read',\n",
              " 'ready',\n",
              " 'real',\n",
              " 'realy',\n",
              " 'reason',\n",
              " 'receive',\n",
              " 'record',\n",
              " 'red',\n",
              " 'redeem',\n",
              " 'reference',\n",
              " 'register',\n",
              " 'remember',\n",
              " 'remind',\n",
              " 'remove',\n",
              " 'rent',\n",
              " 'rental',\n",
              " 'reply',\n",
              " 'representative',\n",
              " 'request',\n",
              " 'respond',\n",
              " 'rest',\n",
              " 'result',\n",
              " 'return',\n",
              " 'reveal',\n",
              " 'reward',\n",
              " 'right',\n",
              " 'ring',\n",
              " 'ringtone',\n",
              " 'rite',\n",
              " 'road',\n",
              " 'rock',\n",
              " 'room',\n",
              " 'roommate',\n",
              " 'round',\n",
              " 'row',\n",
              " 'rply',\n",
              " 'run',\n",
              " 's',\n",
              " 's.',\n",
              " 'sad',\n",
              " 'sae',\n",
              " 'safe',\n",
              " 'sale',\n",
              " 'sat',\n",
              " 'saturday',\n",
              " 'savamob',\n",
              " 'save',\n",
              " 'say',\n",
              " 'sch',\n",
              " 'school',\n",
              " 'scream',\n",
              " 'se',\n",
              " 'sea',\n",
              " 'search',\n",
              " 'second',\n",
              " 'secret',\n",
              " 'see',\n",
              " 'select',\n",
              " 'self',\n",
              " 'sell',\n",
              " 'semester',\n",
              " 'send',\n",
              " 'seriously',\n",
              " 'service',\n",
              " 'set',\n",
              " 'settle',\n",
              " 'sex',\n",
              " 'sexy',\n",
              " 'shall',\n",
              " 'share',\n",
              " 'she.s',\n",
              " 'shirt',\n",
              " 'shit',\n",
              " 'shop',\n",
              " 'shopping',\n",
              " 'short',\n",
              " 'show',\n",
              " 'shower',\n",
              " 'sick',\n",
              " 'sign',\n",
              " 'silent',\n",
              " 'simple',\n",
              " 'single',\n",
              " 'sir',\n",
              " 'sis',\n",
              " 'sister',\n",
              " 'sit',\n",
              " 'situation',\n",
              " 'slave',\n",
              " 'sleep',\n",
              " 'slow',\n",
              " 'slowly',\n",
              " 'small',\n",
              " 'smile',\n",
              " 'smoke',\n",
              " 'sms',\n",
              " 'smth',\n",
              " 'snow',\n",
              " 'sofa',\n",
              " 'somebody',\n",
              " 'song',\n",
              " 'sony',\n",
              " 'soon',\n",
              " 'sorry',\n",
              " 'sort',\n",
              " 'sound',\n",
              " 'south',\n",
              " 'sp',\n",
              " 'space',\n",
              " 'speak',\n",
              " 'special',\n",
              " 'specially',\n",
              " 'spend',\n",
              " 'sport',\n",
              " 'st',\n",
              " 'stand',\n",
              " 'start',\n",
              " 'statement',\n",
              " 'stay',\n",
              " 'std',\n",
              " 'stop',\n",
              " 'store',\n",
              " 'story',\n",
              " 'street',\n",
              " 'student',\n",
              " 'study',\n",
              " 'stuff',\n",
              " 'stupid',\n",
              " 'style',\n",
              " 'sub',\n",
              " 'suite342/2lands',\n",
              " 'summer',\n",
              " 'sun',\n",
              " 'sunday',\n",
              " 'sunshine',\n",
              " 'support',\n",
              " 'suppose',\n",
              " 'sure',\n",
              " 'surprise',\n",
              " 'sweet',\n",
              " 'swing',\n",
              " 't',\n",
              " 't&c',\n",
              " 't&cs',\n",
              " 'take',\n",
              " 'talk',\n",
              " 'tampa',\n",
              " 'tc',\n",
              " 'teach',\n",
              " 'team',\n",
              " 'tear',\n",
              " 'tel',\n",
              " 'tell',\n",
              " 'tenerife',\n",
              " 'term',\n",
              " 'test',\n",
              " 'text',\n",
              " 'texte',\n",
              " 'th',\n",
              " 'thank',\n",
              " 'thanx',\n",
              " 'thing',\n",
              " 'think',\n",
              " 'thinkin',\n",
              " 'thk',\n",
              " 'tho',\n",
              " 'thought',\n",
              " 'throw',\n",
              " 'tht',\n",
              " 'ticket',\n",
              " 'til',\n",
              " 'till',\n",
              " 'time',\n",
              " 'tired',\n",
              " 'tmr',\n",
              " 'to',\n",
              " 'today',\n",
              " 'todays',\n",
              " 'tomo',\n",
              " 'tomorrow',\n",
              " 'tone',\n",
              " 'tonight',\n",
              " 'tonite',\n",
              " 'tot',\n",
              " 'touch',\n",
              " 'tough',\n",
              " 'town',\n",
              " 'train',\n",
              " 'travel',\n",
              " 'treat',\n",
              " 'trip',\n",
              " 'trouble',\n",
              " 'true',\n",
              " 'trust',\n",
              " 'truth',\n",
              " 'try',\n",
              " 'ts&cs',\n",
              " 'tuesday',\n",
              " 'turn',\n",
              " 'tv',\n",
              " 'txt',\n",
              " 'txte',\n",
              " 'type',\n",
              " 'u',\n",
              " 'u.',\n",
              " 'ugh',\n",
              " 'uk',\n",
              " 'un',\n",
              " 'uncle',\n",
              " 'understand',\n",
              " 'unlimited',\n",
              " 'unsubscribe',\n",
              " 'update',\n",
              " 'ur',\n",
              " 'urgent',\n",
              " 'urself',\n",
              " 'use',\n",
              " 'user',\n",
              " 'usf',\n",
              " 'usual',\n",
              " 'v',\n",
              " 'valentine',\n",
              " 'valentines',\n",
              " 'valid',\n",
              " 'value',\n",
              " 'video',\n",
              " 'visit',\n",
              " 'vl',\n",
              " 'voice',\n",
              " 'voucher',\n",
              " 'w',\n",
              " 'w1j6hl',\n",
              " 'wait',\n",
              " 'wake',\n",
              " 'walk',\n",
              " 'wan',\n",
              " 'wana',\n",
              " 'wanna',\n",
              " 'want',\n",
              " 'wap',\n",
              " 'warm',\n",
              " 'waste',\n",
              " 'wat',\n",
              " 'watch',\n",
              " 'water',\n",
              " 'way',\n",
              " 'wear',\n",
              " 'wednesday',\n",
              " 'weed',\n",
              " 'week',\n",
              " 'weekend',\n",
              " 'weekly',\n",
              " 'weight',\n",
              " 'welcome',\n",
              " 'well',\n",
              " 'wen',\n",
              " 'wid',\n",
              " 'wif',\n",
              " 'wife',\n",
              " 'wil',\n",
              " 'will',\n",
              " 'win',\n",
              " 'wine',\n",
              " 'winner',\n",
              " 'wish',\n",
              " 'wit',\n",
              " 'wiv',\n",
              " 'wk',\n",
              " 'wkly',\n",
              " 'wonder',\n",
              " 'wonderful',\n",
              " 'word',\n",
              " 'work',\n",
              " 'workin',\n",
              " 'world',\n",
              " 'worried',\n",
              " 'worry',\n",
              " 'worth',\n",
              " 'wot',\n",
              " 'would',\n",
              " 'wow',\n",
              " 'write',\n",
              " 'wrong',\n",
              " 'www',\n",
              " 'www.getzed.co.uk',\n",
              " 'x',\n",
              " 'xmas',\n",
              " 'xx',\n",
              " 'xxx',\n",
              " 'xy',\n",
              " 'y',\n",
              " 'ya',\n",
              " 'yahoo',\n",
              " 'yar',\n",
              " 'yeah',\n",
              " 'year',\n",
              " 'yep',\n",
              " 'yes',\n",
              " 'yesterday',\n",
              " 'yo',\n",
              " 'yr',\n",
              " 'yup',\n",
              " '|',\n",
              " '||',\n",
              " '£',\n",
              " 'ü']"
            ]
          },
          "metadata": {
            "tags": []
          },
          "execution_count": 22
        }
      ]
    },
    {
      "cell_type": "code",
      "metadata": {
        "id": "fhC49W8AdcdT",
        "colab_type": "code",
        "outputId": "f93193d4-4c39-41e3-94ce-ec97df4992a8",
        "colab": {
          "base_uri": "https://localhost:8080/",
          "height": 34
        }
      },
      "source": [
        "type(xcnt)"
      ],
      "execution_count": 0,
      "outputs": [
        {
          "output_type": "execute_result",
          "data": {
            "text/plain": [
              "scipy.sparse.csr.csr_matrix"
            ]
          },
          "metadata": {
            "tags": []
          },
          "execution_count": 18
        }
      ]
    },
    {
      "cell_type": "code",
      "metadata": {
        "id": "sxOaF_n_tHmn",
        "colab_type": "code",
        "colab": {}
      },
      "source": [
        "tfidf_transformer=TfidfTransformer()\n",
        "X_train_tfidf = tfidf_transformer.fit_transform(xcnt)"
      ],
      "execution_count": 0,
      "outputs": []
    },
    {
      "cell_type": "code",
      "metadata": {
        "id": "M2GGcQ7Kwdoy",
        "colab_type": "code",
        "outputId": "032fcbf4-9829-45f1-8101-17f0414adb6d",
        "colab": {
          "base_uri": "https://localhost:8080/",
          "height": 34
        }
      },
      "source": [
        "X_train_tfidf.shape"
      ],
      "execution_count": 24,
      "outputs": [
        {
          "output_type": "execute_result",
          "data": {
            "text/plain": [
              "(5572, 1000)"
            ]
          },
          "metadata": {
            "tags": []
          },
          "execution_count": 24
        }
      ]
    },
    {
      "cell_type": "code",
      "metadata": {
        "id": "2yrHOG6OxJAd",
        "colab_type": "code",
        "colab": {}
      },
      "source": [
        "smsmb=MultinomialNB()"
      ],
      "execution_count": 0,
      "outputs": []
    },
    {
      "cell_type": "code",
      "metadata": {
        "id": "q9Z-jqstxQbh",
        "colab_type": "code",
        "colab": {}
      },
      "source": [
        "y=sms['Label']"
      ],
      "execution_count": 0,
      "outputs": []
    },
    {
      "cell_type": "code",
      "metadata": {
        "id": "ZigvF4uxyxhx",
        "colab_type": "code",
        "colab": {}
      },
      "source": [
        "x_train,x_test,y_train,y_test=train_test_split(X_train_tfidf,y,test_size=0.20,random_state=0)"
      ],
      "execution_count": 0,
      "outputs": []
    },
    {
      "cell_type": "code",
      "metadata": {
        "id": "CKs-JLSAz5gk",
        "colab_type": "code",
        "outputId": "4c1e3eec-2f88-464a-bd46-e06ee2c2fe7f",
        "colab": {
          "base_uri": "https://localhost:8080/",
          "height": 34
        }
      },
      "source": [
        "x_train.shape"
      ],
      "execution_count": 29,
      "outputs": [
        {
          "output_type": "execute_result",
          "data": {
            "text/plain": [
              "(4457, 1000)"
            ]
          },
          "metadata": {
            "tags": []
          },
          "execution_count": 29
        }
      ]
    },
    {
      "cell_type": "code",
      "metadata": {
        "id": "hsImeRlEz8CC",
        "colab_type": "code",
        "outputId": "586921d7-2b87-4637-c41e-ccc01af93827",
        "colab": {
          "base_uri": "https://localhost:8080/",
          "height": 34
        }
      },
      "source": [
        "type(x_train)"
      ],
      "execution_count": 30,
      "outputs": [
        {
          "output_type": "execute_result",
          "data": {
            "text/plain": [
              "scipy.sparse.csr.csr_matrix"
            ]
          },
          "metadata": {
            "tags": []
          },
          "execution_count": 30
        }
      ]
    },
    {
      "cell_type": "code",
      "metadata": {
        "id": "bAlHWccV0BPQ",
        "colab_type": "code",
        "outputId": "af2f6718-fdaa-42b0-fbf7-2b28719ef4c8",
        "colab": {
          "base_uri": "https://localhost:8080/",
          "height": 235
        }
      },
      "source": [
        "x_train.toarray()"
      ],
      "execution_count": 31,
      "outputs": [
        {
          "output_type": "execute_result",
          "data": {
            "text/plain": [
              "array([[0.        , 0.        , 0.        , ..., 0.        , 0.        ,\n",
              "        0.        ],\n",
              "       [0.        , 0.        , 0.        , ..., 0.        , 0.        ,\n",
              "        0.        ],\n",
              "       [0.        , 0.        , 0.        , ..., 0.        , 0.        ,\n",
              "        0.        ],\n",
              "       ...,\n",
              "       [0.        , 0.        , 0.        , ..., 0.        , 0.22745187,\n",
              "        0.        ],\n",
              "       [0.        , 0.        , 0.        , ..., 0.        , 0.        ,\n",
              "        0.        ],\n",
              "       [0.        , 0.        , 0.        , ..., 0.        , 0.        ,\n",
              "        0.        ]])"
            ]
          },
          "metadata": {
            "tags": []
          },
          "execution_count": 31
        }
      ]
    },
    {
      "cell_type": "code",
      "metadata": {
        "id": "LFH5Tl2H-vDy",
        "colab_type": "code",
        "outputId": "736232bb-278d-47ed-f2e9-a98d505babd1",
        "colab": {
          "base_uri": "https://localhost:8080/",
          "height": 34
        }
      },
      "source": [
        "smsmb.fit(x_train,y_train)"
      ],
      "execution_count": 32,
      "outputs": [
        {
          "output_type": "execute_result",
          "data": {
            "text/plain": [
              "MultinomialNB(alpha=1.0, class_prior=None, fit_prior=True)"
            ]
          },
          "metadata": {
            "tags": []
          },
          "execution_count": 32
        }
      ]
    },
    {
      "cell_type": "code",
      "metadata": {
        "id": "qbdras0w_R_n",
        "colab_type": "code",
        "outputId": "446c3adc-4e57-4e6a-9ded-2afc3a0b8b16",
        "colab": {
          "base_uri": "https://localhost:8080/",
          "height": 34
        }
      },
      "source": [
        "y_predict=smsmb.predict(x_test)\n",
        "print(y_predict)"
      ],
      "execution_count": 33,
      "outputs": [
        {
          "output_type": "stream",
          "text": [
            "['ham' 'spam' 'ham' ... 'ham' 'spam' 'ham']\n"
          ],
          "name": "stdout"
        }
      ]
    },
    {
      "cell_type": "code",
      "metadata": {
        "id": "ix5HcT6Cdd6n",
        "colab_type": "code",
        "outputId": "6674bcb1-4451-41a1-92a5-c110535bab52",
        "colab": {
          "base_uri": "https://localhost:8080/",
          "height": 34
        }
      },
      "source": [
        "np.mean(y_predict == y_test)"
      ],
      "execution_count": 34,
      "outputs": [
        {
          "output_type": "execute_result",
          "data": {
            "text/plain": [
              "0.9838565022421525"
            ]
          },
          "metadata": {
            "tags": []
          },
          "execution_count": 34
        }
      ]
    },
    {
      "cell_type": "code",
      "metadata": {
        "id": "kR6SMM4_ATG0",
        "colab_type": "code",
        "outputId": "c089b737-8157-4ff9-dff9-7b9d5237fd06",
        "colab": {
          "base_uri": "https://localhost:8080/",
          "height": 50
        }
      },
      "source": [
        "from sklearn import metrics\n",
        "metrics.confusion_matrix(y_test,y_predict)"
      ],
      "execution_count": 35,
      "outputs": [
        {
          "output_type": "execute_result",
          "data": {
            "text/plain": [
              "array([[952,   3],\n",
              "       [ 15, 145]])"
            ]
          },
          "metadata": {
            "tags": []
          },
          "execution_count": 35
        }
      ]
    },
    {
      "cell_type": "code",
      "metadata": {
        "id": "kOKZhsCQBkhc",
        "colab_type": "code",
        "outputId": "8c33525d-51e2-46dd-95d8-fc9441b25915",
        "colab": {
          "base_uri": "https://localhost:8080/",
          "height": 168
        }
      },
      "source": [
        "print(metrics.classification_report(y_test,y_predict))"
      ],
      "execution_count": 36,
      "outputs": [
        {
          "output_type": "stream",
          "text": [
            "              precision    recall  f1-score   support\n",
            "\n",
            "         ham       0.98      1.00      0.99       955\n",
            "        spam       0.98      0.91      0.94       160\n",
            "\n",
            "    accuracy                           0.98      1115\n",
            "   macro avg       0.98      0.95      0.97      1115\n",
            "weighted avg       0.98      0.98      0.98      1115\n",
            "\n"
          ],
          "name": "stdout"
        }
      ]
    },
    {
      "cell_type": "code",
      "metadata": {
        "id": "mBsJ4upvslSC",
        "colab_type": "code",
        "colab": {}
      },
      "source": [
        ""
      ],
      "execution_count": 0,
      "outputs": []
    }
  ]
}